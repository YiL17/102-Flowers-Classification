{
  "cells": [
    {
      "cell_type": "markdown",
      "metadata": {
        "id": "view-in-github",
        "colab_type": "text"
      },
      "source": [
        "<a href=\"https://colab.research.google.com/github/YiL17/102-Flowers-Classification/blob/master/Causal.ipynb\" target=\"_parent\"><img src=\"https://colab.research.google.com/assets/colab-badge.svg\" alt=\"Open In Colab\"/></a>"
      ]
    },
    {
      "cell_type": "code",
      "source": [
        "import matplotlib.pyplot as plt\n",
        "plt.rcParams[\"figure.figsize\"] = (11, 5)  # set default figure size\n",
        "import numpy as np\n",
        "from scipy.interpolate import interp1d\n",
        "from scipy.optimize import minimize_scalar\n",
        "\n",
        "def maximize(g, a, b, args):\n",
        "    \"\"\"\n",
        "    Maximize the function g over the interval [a, b].\n",
        "    We use the fact that the maximizer of g on any interval is\n",
        "    also the minimizer of -g.  The tuple args collects any extra\n",
        "    arguments to g.\n",
        "    Returns the maximal value and the maximizer.\n",
        "    \"\"\"\n",
        "    objective = lambda x: -g(x, *args)\n",
        "    result = minimize_scalar(objective, bounds=(a, b), method='bounded')\n",
        "    maximizer, maximum = result.x, -result.fun\n",
        "    return maximizer, maximum\n",
        "\n",
        "class OptimalGrowthModel:\n",
        "    def init(self,\n",
        "                 u,            # utility function\n",
        "                 f,            # production function.\n",
        "                 β=0.96,       # discount factor\n",
        "                 α=0.3,\n",
        "                 μ=0,          # shock location parameter\n",
        "                 σ=0.1,        # shock scale parameter\n",
        "                 grid_max=20,\n",
        "                 grid_size=120,\n",
        "                 shock_size=250,\n",
        "                 seed=1234):\n",
        "        self.u, self.f, self.β, self.α, self.μ, self.σ = u, f, β, α, μ, σ\n",
        "        # Set up grid\n",
        "        self.grid = np.linspace(1e-4, grid_max, grid_size)\n",
        "        # Store shocks (with a seed, so results are reproducible)\n",
        "        np.random.seed(seed)\n",
        "        self.shocks = np.exp(np.random.normal(μ, σ, shock_size))\n",
        "\n",
        "    def state_action_value(self, c, y, v_array):\n",
        "        \"\"\"\n",
        "        Right hand side of the Bellman equation.\n",
        "        \"\"\"\n",
        "        u, f, β, shocks = self.u, self.f, self.β, self.shocks\n",
        "        v = interp1d(self.grid, v_array, fill_value=\"extrapolate\")\n",
        "        return u(c) + β * np.mean(v(f(y - c) * shocks))\n",
        "\n",
        "def T(v, og):\n",
        "    \"\"\"\n",
        "    The Bellman operator.  Updates the guess of the value function\n",
        "    and also computes a v-greedy policy.\n",
        "      * og is an instance of OptimalGrowthModel\n",
        "      * v is an array representing a guess of the value function\n",
        "    \"\"\"\n",
        "    v_new = np.empty_like(v)\n",
        "    v_greedy = np.empty_like(v)\n",
        "    for i in range(len(grid)):\n",
        "        y = grid[i]\n",
        "        # Maximize RHS of Bellman equation at state y\n",
        "        c_star, v_max = maximize(og.state_action_value, 1e-10, y, (y, v))\n",
        "        v_new[i] = v_max\n",
        "        v_greedy[i] = c_star\n",
        "    return v_greedy, v_new\n",
        "\n",
        "def v_star(y, α, β, μ):\n",
        "    \"\"\"\n",
        "    True value function\n",
        "    \"\"\"\n",
        "    c1 = np.log(1 - α * β) / (1 - β)\n",
        "    c2 = (μ + α * np.log(α * β)) / (1 - α)\n",
        "    c3 = 1 / (1 - β)\n",
        "    c4 = 1 / (1 - α * β)\n",
        "    return c1 + c2 * (c3 - c4) + c4 * np.log(y)\n",
        "\n",
        "def σ_star(y, α, β):\n",
        "    \"\"\"\n",
        "    True optimal policy\n",
        "    \"\"\"\n",
        "    return (1 - α * β) * y\n",
        "\n",
        "α = 0.3\n",
        "def fcd(k):\n",
        "    return k**α\n",
        "\n",
        "og = OptimalGrowthModel(u=np.log, f=fcd)\n",
        "grid = og.grid\n",
        "\n",
        "v_init = v_star(grid, α, og.β, og.μ)    # Start at the solution\n",
        "\n",
        "def solve_model(og, v_init, max_iter):\n",
        "    \"\"\"\n",
        "    Solve model by iterating with the Bellman operator for a given number of iterations.\n",
        "\n",
        "    \"\"\"\n",
        "    v = v_init\n",
        "    for _ in range(max_iter):\n",
        "        v_greedy, v = T(v, og)\n",
        "    return v\n",
        "\n",
        "# Solve the model for different numbers of iterations\n",
        "iterations = [1, 10, 100, 1000, 10000]\n",
        "results = [solve_model(og, 5 * np.log(grid), n) for n in iterations]\n",
        "\n",
        "# Plot the results\n",
        "fig, ax = plt.subplots()\n",
        "colors = plt.cm.viridis(np.linspace(0, 1, len(iterations)))\n",
        "for idx, (n, v) in enumerate(zip(iterations, results)):\n",
        "    ax.plot(grid, v, color=colors[idx], lw=2, alpha=0.6, label=f'N = {n}')\n",
        "\n",
        "# Plot the true value function\n",
        "ax.plot(grid, v_star(grid, α, og.β, og.μ), 'k--', lw=2, alpha=0.8, label='True value function')\n",
        "\n",
        "ax.legend()\n",
        "ax.set(ylim=(-40, 10), xlim=(np.min(grid), np.max(grid)))\n",
        "plt.show()\n",
        "\n",
        "# Calculate the distance between the actual solution and the numerical one for N = 10000\n",
        "v_numerical = results[-1]\n",
        "v_analytical = v_star(grid, α, og.β, og.μ)\n",
        "distance = np.max(np.abs(v_numerical - v_analytical))\n",
        "print(f'Distance between the actual solution and the numerical one after 10000 iterations: {distance:.6f}')"
      ],
      "metadata": {
        "id": "n61k19ilTa3a",
        "outputId": "4644b211-5740-4fd1-d31b-c51933532de2",
        "colab": {
          "base_uri": "https://localhost:8080/",
          "height": 214
        }
      },
      "execution_count": null,
      "outputs": [
        {
          "output_type": "error",
          "ename": "TypeError",
          "evalue": "OptimalGrowthModel() takes no arguments",
          "traceback": [
            "\u001b[0;31m---------------------------------------------------------------------------\u001b[0m",
            "\u001b[0;31mTypeError\u001b[0m                                 Traceback (most recent call last)",
            "\u001b[0;32m<ipython-input-1-7db9724ffeb3>\u001b[0m in \u001b[0;36m<cell line: 84>\u001b[0;34m()\u001b[0m\n\u001b[1;32m     82\u001b[0m     \u001b[0;32mreturn\u001b[0m \u001b[0mk\u001b[0m\u001b[0;34m**\u001b[0m\u001b[0mα\u001b[0m\u001b[0;34m\u001b[0m\u001b[0;34m\u001b[0m\u001b[0m\n\u001b[1;32m     83\u001b[0m \u001b[0;34m\u001b[0m\u001b[0m\n\u001b[0;32m---> 84\u001b[0;31m \u001b[0mog\u001b[0m \u001b[0;34m=\u001b[0m \u001b[0mOptimalGrowthModel\u001b[0m\u001b[0;34m(\u001b[0m\u001b[0mu\u001b[0m\u001b[0;34m=\u001b[0m\u001b[0mnp\u001b[0m\u001b[0;34m.\u001b[0m\u001b[0mlog\u001b[0m\u001b[0;34m,\u001b[0m \u001b[0mf\u001b[0m\u001b[0;34m=\u001b[0m\u001b[0mfcd\u001b[0m\u001b[0;34m)\u001b[0m\u001b[0;34m\u001b[0m\u001b[0;34m\u001b[0m\u001b[0m\n\u001b[0m\u001b[1;32m     85\u001b[0m \u001b[0mgrid\u001b[0m \u001b[0;34m=\u001b[0m \u001b[0mog\u001b[0m\u001b[0;34m.\u001b[0m\u001b[0mgrid\u001b[0m\u001b[0;34m\u001b[0m\u001b[0;34m\u001b[0m\u001b[0m\n\u001b[1;32m     86\u001b[0m \u001b[0;34m\u001b[0m\u001b[0m\n",
            "\u001b[0;31mTypeError\u001b[0m: OptimalGrowthModel() takes no arguments"
          ]
        }
      ]
    },
    {
      "cell_type": "code",
      "execution_count": null,
      "metadata": {
        "colab": {
          "base_uri": "https://localhost:8080/",
          "height": 322
        },
        "id": "QBIJiVDPHAXn",
        "outputId": "25b09169-7de3-482c-d76d-aef76caa63ef"
      },
      "outputs": [
        {
          "output_type": "error",
          "ename": "ModuleNotFoundError",
          "evalue": "No module named 'causalml'",
          "traceback": [
            "\u001b[0;31m---------------------------------------------------------------------------\u001b[0m",
            "\u001b[0;31mModuleNotFoundError\u001b[0m                       Traceback (most recent call last)",
            "\u001b[0;32m<ipython-input-2-69c7db476eba>\u001b[0m in \u001b[0;36m<cell line: 1>\u001b[0;34m()\u001b[0m\n\u001b[0;32m----> 1\u001b[0;31m \u001b[0;32mfrom\u001b[0m \u001b[0mcausalml\u001b[0m\u001b[0;34m.\u001b[0m\u001b[0mdataset\u001b[0m \u001b[0;32mimport\u001b[0m \u001b[0msynthetic_data\u001b[0m\u001b[0;34m\u001b[0m\u001b[0;34m\u001b[0m\u001b[0m\n\u001b[0m",
            "\u001b[0;31mModuleNotFoundError\u001b[0m: No module named 'causalml'",
            "",
            "\u001b[0;31m---------------------------------------------------------------------------\u001b[0;32m\nNOTE: If your import is failing due to a missing package, you can\nmanually install dependencies using either !pip or !apt.\n\nTo view examples of installing some common dependencies, click the\n\"Open Examples\" button below.\n\u001b[0;31m---------------------------------------------------------------------------\u001b[0m\n"
          ],
          "errorDetails": {
            "actions": [
              {
                "action": "open_url",
                "actionText": "Open Examples",
                "url": "/notebooks/snippets/importing_libraries.ipynb"
              }
            ]
          }
        }
      ],
      "source": [
        "from causalml.dataset import synthetic_data"
      ]
    },
    {
      "cell_type": "code",
      "execution_count": null,
      "metadata": {
        "id": "6x1soVeW7U4q",
        "colab": {
          "base_uri": "https://localhost:8080/"
        },
        "outputId": "3f937929-1bd1-4376-d479-b5364f1f7737"
      },
      "outputs": [
        {
          "output_type": "stream",
          "name": "stdout",
          "text": [
            "(2000, 11)\n"
          ]
        }
      ],
      "source": [
        "# Import the sample AB data\n",
        "import pandas as pd\n",
        "\n",
        "file_url = \"https://msalicedatapublic.z5.web.core.windows.net/datasets/ROI/multi_attribution_sample.csv\"\n",
        "ab_data = pd.read_csv(file_url)\n",
        "# df = pd.read_csv('/content/drive/MyDrive/Colab Notebooks/KDD2021_CausalML/case_1_data_causalml.csv.gz')\n",
        "# df = pd.read_csv('/content/sample_data/')\n",
        "print(ab_data.shape)"
      ]
    },
    {
      "cell_type": "code",
      "execution_count": null,
      "metadata": {
        "id": "jzi5KJ7-3T2g",
        "colab": {
          "base_uri": "https://localhost:8080/",
          "height": 223
        },
        "outputId": "ef7f949d-1d22-4a65-8a3e-145a17ee0c32"
      },
      "outputs": [
        {
          "output_type": "execute_result",
          "data": {
            "text/plain": [
              "   Global Flag  Major Flag  SMC Flag  Commercial Flag  IT Spend  \\\n",
              "0            1           0         1                0     45537   \n",
              "1            0           0         1                1     20842   \n",
              "2            0           0         0                1     82171   \n",
              "3            0           0         0                0     30288   \n",
              "4            0           0         1                0     25930   \n",
              "\n",
              "   Employee Count  PC Count    Size  Tech Support  Discount    Revenue  \n",
              "0              26        26  152205             0         1 17688.3630  \n",
              "1             107        70  159038             0         1 14981.4356  \n",
              "2              10         7  264935             1         1 32917.1389  \n",
              "3              40        39   77522             1         1 14773.7686  \n",
              "4              37        43   91446             1         1 17098.6982  "
            ],
            "text/html": [
              "\n",
              "  <div id=\"df-319aef71-3452-4f08-b753-606cd00b89df\" class=\"colab-df-container\">\n",
              "    <div>\n",
              "<style scoped>\n",
              "    .dataframe tbody tr th:only-of-type {\n",
              "        vertical-align: middle;\n",
              "    }\n",
              "\n",
              "    .dataframe tbody tr th {\n",
              "        vertical-align: top;\n",
              "    }\n",
              "\n",
              "    .dataframe thead th {\n",
              "        text-align: right;\n",
              "    }\n",
              "</style>\n",
              "<table border=\"1\" class=\"dataframe\">\n",
              "  <thead>\n",
              "    <tr style=\"text-align: right;\">\n",
              "      <th></th>\n",
              "      <th>Global Flag</th>\n",
              "      <th>Major Flag</th>\n",
              "      <th>SMC Flag</th>\n",
              "      <th>Commercial Flag</th>\n",
              "      <th>IT Spend</th>\n",
              "      <th>Employee Count</th>\n",
              "      <th>PC Count</th>\n",
              "      <th>Size</th>\n",
              "      <th>Tech Support</th>\n",
              "      <th>Discount</th>\n",
              "      <th>Revenue</th>\n",
              "    </tr>\n",
              "  </thead>\n",
              "  <tbody>\n",
              "    <tr>\n",
              "      <th>0</th>\n",
              "      <td>1</td>\n",
              "      <td>0</td>\n",
              "      <td>1</td>\n",
              "      <td>0</td>\n",
              "      <td>45537</td>\n",
              "      <td>26</td>\n",
              "      <td>26</td>\n",
              "      <td>152205</td>\n",
              "      <td>0</td>\n",
              "      <td>1</td>\n",
              "      <td>17688.3630</td>\n",
              "    </tr>\n",
              "    <tr>\n",
              "      <th>1</th>\n",
              "      <td>0</td>\n",
              "      <td>0</td>\n",
              "      <td>1</td>\n",
              "      <td>1</td>\n",
              "      <td>20842</td>\n",
              "      <td>107</td>\n",
              "      <td>70</td>\n",
              "      <td>159038</td>\n",
              "      <td>0</td>\n",
              "      <td>1</td>\n",
              "      <td>14981.4356</td>\n",
              "    </tr>\n",
              "    <tr>\n",
              "      <th>2</th>\n",
              "      <td>0</td>\n",
              "      <td>0</td>\n",
              "      <td>0</td>\n",
              "      <td>1</td>\n",
              "      <td>82171</td>\n",
              "      <td>10</td>\n",
              "      <td>7</td>\n",
              "      <td>264935</td>\n",
              "      <td>1</td>\n",
              "      <td>1</td>\n",
              "      <td>32917.1389</td>\n",
              "    </tr>\n",
              "    <tr>\n",
              "      <th>3</th>\n",
              "      <td>0</td>\n",
              "      <td>0</td>\n",
              "      <td>0</td>\n",
              "      <td>0</td>\n",
              "      <td>30288</td>\n",
              "      <td>40</td>\n",
              "      <td>39</td>\n",
              "      <td>77522</td>\n",
              "      <td>1</td>\n",
              "      <td>1</td>\n",
              "      <td>14773.7686</td>\n",
              "    </tr>\n",
              "    <tr>\n",
              "      <th>4</th>\n",
              "      <td>0</td>\n",
              "      <td>0</td>\n",
              "      <td>1</td>\n",
              "      <td>0</td>\n",
              "      <td>25930</td>\n",
              "      <td>37</td>\n",
              "      <td>43</td>\n",
              "      <td>91446</td>\n",
              "      <td>1</td>\n",
              "      <td>1</td>\n",
              "      <td>17098.6982</td>\n",
              "    </tr>\n",
              "  </tbody>\n",
              "</table>\n",
              "</div>\n",
              "    <div class=\"colab-df-buttons\">\n",
              "\n",
              "  <div class=\"colab-df-container\">\n",
              "    <button class=\"colab-df-convert\" onclick=\"convertToInteractive('df-319aef71-3452-4f08-b753-606cd00b89df')\"\n",
              "            title=\"Convert this dataframe to an interactive table.\"\n",
              "            style=\"display:none;\">\n",
              "\n",
              "  <svg xmlns=\"http://www.w3.org/2000/svg\" height=\"24px\" viewBox=\"0 -960 960 960\">\n",
              "    <path d=\"M120-120v-720h720v720H120Zm60-500h600v-160H180v160Zm220 220h160v-160H400v160Zm0 220h160v-160H400v160ZM180-400h160v-160H180v160Zm440 0h160v-160H620v160ZM180-180h160v-160H180v160Zm440 0h160v-160H620v160Z\"/>\n",
              "  </svg>\n",
              "    </button>\n",
              "\n",
              "  <style>\n",
              "    .colab-df-container {\n",
              "      display:flex;\n",
              "      gap: 12px;\n",
              "    }\n",
              "\n",
              "    .colab-df-convert {\n",
              "      background-color: #E8F0FE;\n",
              "      border: none;\n",
              "      border-radius: 50%;\n",
              "      cursor: pointer;\n",
              "      display: none;\n",
              "      fill: #1967D2;\n",
              "      height: 32px;\n",
              "      padding: 0 0 0 0;\n",
              "      width: 32px;\n",
              "    }\n",
              "\n",
              "    .colab-df-convert:hover {\n",
              "      background-color: #E2EBFA;\n",
              "      box-shadow: 0px 1px 2px rgba(60, 64, 67, 0.3), 0px 1px 3px 1px rgba(60, 64, 67, 0.15);\n",
              "      fill: #174EA6;\n",
              "    }\n",
              "\n",
              "    .colab-df-buttons div {\n",
              "      margin-bottom: 4px;\n",
              "    }\n",
              "\n",
              "    [theme=dark] .colab-df-convert {\n",
              "      background-color: #3B4455;\n",
              "      fill: #D2E3FC;\n",
              "    }\n",
              "\n",
              "    [theme=dark] .colab-df-convert:hover {\n",
              "      background-color: #434B5C;\n",
              "      box-shadow: 0px 1px 3px 1px rgba(0, 0, 0, 0.15);\n",
              "      filter: drop-shadow(0px 1px 2px rgba(0, 0, 0, 0.3));\n",
              "      fill: #FFFFFF;\n",
              "    }\n",
              "  </style>\n",
              "\n",
              "    <script>\n",
              "      const buttonEl =\n",
              "        document.querySelector('#df-319aef71-3452-4f08-b753-606cd00b89df button.colab-df-convert');\n",
              "      buttonEl.style.display =\n",
              "        google.colab.kernel.accessAllowed ? 'block' : 'none';\n",
              "\n",
              "      async function convertToInteractive(key) {\n",
              "        const element = document.querySelector('#df-319aef71-3452-4f08-b753-606cd00b89df');\n",
              "        const dataTable =\n",
              "          await google.colab.kernel.invokeFunction('convertToInteractive',\n",
              "                                                    [key], {});\n",
              "        if (!dataTable) return;\n",
              "\n",
              "        const docLinkHtml = 'Like what you see? Visit the ' +\n",
              "          '<a target=\"_blank\" href=https://colab.research.google.com/notebooks/data_table.ipynb>data table notebook</a>'\n",
              "          + ' to learn more about interactive tables.';\n",
              "        element.innerHTML = '';\n",
              "        dataTable['output_type'] = 'display_data';\n",
              "        await google.colab.output.renderOutput(dataTable, element);\n",
              "        const docLink = document.createElement('div');\n",
              "        docLink.innerHTML = docLinkHtml;\n",
              "        element.appendChild(docLink);\n",
              "      }\n",
              "    </script>\n",
              "  </div>\n",
              "\n",
              "\n",
              "<div id=\"df-f664e0be-de6c-4979-ac31-58c6ad639400\">\n",
              "  <button class=\"colab-df-quickchart\" onclick=\"quickchart('df-f664e0be-de6c-4979-ac31-58c6ad639400')\"\n",
              "            title=\"Suggest charts\"\n",
              "            style=\"display:none;\">\n",
              "\n",
              "<svg xmlns=\"http://www.w3.org/2000/svg\" height=\"24px\"viewBox=\"0 0 24 24\"\n",
              "     width=\"24px\">\n",
              "    <g>\n",
              "        <path d=\"M19 3H5c-1.1 0-2 .9-2 2v14c0 1.1.9 2 2 2h14c1.1 0 2-.9 2-2V5c0-1.1-.9-2-2-2zM9 17H7v-7h2v7zm4 0h-2V7h2v10zm4 0h-2v-4h2v4z\"/>\n",
              "    </g>\n",
              "</svg>\n",
              "  </button>\n",
              "\n",
              "<style>\n",
              "  .colab-df-quickchart {\n",
              "      --bg-color: #E8F0FE;\n",
              "      --fill-color: #1967D2;\n",
              "      --hover-bg-color: #E2EBFA;\n",
              "      --hover-fill-color: #174EA6;\n",
              "      --disabled-fill-color: #AAA;\n",
              "      --disabled-bg-color: #DDD;\n",
              "  }\n",
              "\n",
              "  [theme=dark] .colab-df-quickchart {\n",
              "      --bg-color: #3B4455;\n",
              "      --fill-color: #D2E3FC;\n",
              "      --hover-bg-color: #434B5C;\n",
              "      --hover-fill-color: #FFFFFF;\n",
              "      --disabled-bg-color: #3B4455;\n",
              "      --disabled-fill-color: #666;\n",
              "  }\n",
              "\n",
              "  .colab-df-quickchart {\n",
              "    background-color: var(--bg-color);\n",
              "    border: none;\n",
              "    border-radius: 50%;\n",
              "    cursor: pointer;\n",
              "    display: none;\n",
              "    fill: var(--fill-color);\n",
              "    height: 32px;\n",
              "    padding: 0;\n",
              "    width: 32px;\n",
              "  }\n",
              "\n",
              "  .colab-df-quickchart:hover {\n",
              "    background-color: var(--hover-bg-color);\n",
              "    box-shadow: 0 1px 2px rgba(60, 64, 67, 0.3), 0 1px 3px 1px rgba(60, 64, 67, 0.15);\n",
              "    fill: var(--button-hover-fill-color);\n",
              "  }\n",
              "\n",
              "  .colab-df-quickchart-complete:disabled,\n",
              "  .colab-df-quickchart-complete:disabled:hover {\n",
              "    background-color: var(--disabled-bg-color);\n",
              "    fill: var(--disabled-fill-color);\n",
              "    box-shadow: none;\n",
              "  }\n",
              "\n",
              "  .colab-df-spinner {\n",
              "    border: 2px solid var(--fill-color);\n",
              "    border-color: transparent;\n",
              "    border-bottom-color: var(--fill-color);\n",
              "    animation:\n",
              "      spin 1s steps(1) infinite;\n",
              "  }\n",
              "\n",
              "  @keyframes spin {\n",
              "    0% {\n",
              "      border-color: transparent;\n",
              "      border-bottom-color: var(--fill-color);\n",
              "      border-left-color: var(--fill-color);\n",
              "    }\n",
              "    20% {\n",
              "      border-color: transparent;\n",
              "      border-left-color: var(--fill-color);\n",
              "      border-top-color: var(--fill-color);\n",
              "    }\n",
              "    30% {\n",
              "      border-color: transparent;\n",
              "      border-left-color: var(--fill-color);\n",
              "      border-top-color: var(--fill-color);\n",
              "      border-right-color: var(--fill-color);\n",
              "    }\n",
              "    40% {\n",
              "      border-color: transparent;\n",
              "      border-right-color: var(--fill-color);\n",
              "      border-top-color: var(--fill-color);\n",
              "    }\n",
              "    60% {\n",
              "      border-color: transparent;\n",
              "      border-right-color: var(--fill-color);\n",
              "    }\n",
              "    80% {\n",
              "      border-color: transparent;\n",
              "      border-right-color: var(--fill-color);\n",
              "      border-bottom-color: var(--fill-color);\n",
              "    }\n",
              "    90% {\n",
              "      border-color: transparent;\n",
              "      border-bottom-color: var(--fill-color);\n",
              "    }\n",
              "  }\n",
              "</style>\n",
              "\n",
              "  <script>\n",
              "    async function quickchart(key) {\n",
              "      const quickchartButtonEl =\n",
              "        document.querySelector('#' + key + ' button');\n",
              "      quickchartButtonEl.disabled = true;  // To prevent multiple clicks.\n",
              "      quickchartButtonEl.classList.add('colab-df-spinner');\n",
              "      try {\n",
              "        const charts = await google.colab.kernel.invokeFunction(\n",
              "            'suggestCharts', [key], {});\n",
              "      } catch (error) {\n",
              "        console.error('Error during call to suggestCharts:', error);\n",
              "      }\n",
              "      quickchartButtonEl.classList.remove('colab-df-spinner');\n",
              "      quickchartButtonEl.classList.add('colab-df-quickchart-complete');\n",
              "    }\n",
              "    (() => {\n",
              "      let quickchartButtonEl =\n",
              "        document.querySelector('#df-f664e0be-de6c-4979-ac31-58c6ad639400 button');\n",
              "      quickchartButtonEl.style.display =\n",
              "        google.colab.kernel.accessAllowed ? 'block' : 'none';\n",
              "    })();\n",
              "  </script>\n",
              "</div>\n",
              "\n",
              "    </div>\n",
              "  </div>\n"
            ],
            "application/vnd.google.colaboratory.intrinsic+json": {
              "type": "dataframe",
              "variable_name": "ab_data",
              "summary": "{\n  \"name\": \"ab_data\",\n  \"rows\": 2000,\n  \"fields\": [\n    {\n      \"column\": \"Global Flag\",\n      \"properties\": {\n        \"dtype\": \"number\",\n        \"std\": 0,\n        \"min\": 0,\n        \"max\": 1,\n        \"num_unique_values\": 2,\n        \"samples\": [\n          0,\n          1\n        ],\n        \"semantic_type\": \"\",\n        \"description\": \"\"\n      }\n    },\n    {\n      \"column\": \"Major Flag\",\n      \"properties\": {\n        \"dtype\": \"number\",\n        \"std\": 0,\n        \"min\": 0,\n        \"max\": 1,\n        \"num_unique_values\": 2,\n        \"samples\": [\n          1,\n          0\n        ],\n        \"semantic_type\": \"\",\n        \"description\": \"\"\n      }\n    },\n    {\n      \"column\": \"SMC Flag\",\n      \"properties\": {\n        \"dtype\": \"number\",\n        \"std\": 0,\n        \"min\": 0,\n        \"max\": 1,\n        \"num_unique_values\": 2,\n        \"samples\": [\n          0,\n          1\n        ],\n        \"semantic_type\": \"\",\n        \"description\": \"\"\n      }\n    },\n    {\n      \"column\": \"Commercial Flag\",\n      \"properties\": {\n        \"dtype\": \"number\",\n        \"std\": 0,\n        \"min\": 0,\n        \"max\": 1,\n        \"num_unique_values\": 2,\n        \"samples\": [\n          1,\n          0\n        ],\n        \"semantic_type\": \"\",\n        \"description\": \"\"\n      }\n    },\n    {\n      \"column\": \"IT Spend\",\n      \"properties\": {\n        \"dtype\": \"number\",\n        \"std\": 28207,\n        \"min\": 1161,\n        \"max\": 259808,\n        \"num_unique_values\": 1964,\n        \"samples\": [\n          3100,\n          110002\n        ],\n        \"semantic_type\": \"\",\n        \"description\": \"\"\n      }\n    },\n    {\n      \"column\": \"Employee Count\",\n      \"properties\": {\n        \"dtype\": \"number\",\n        \"std\": 53,\n        \"min\": 10,\n        \"max\": 535,\n        \"num_unique_values\": 221,\n        \"samples\": [\n          81,\n          72\n        ],\n        \"semantic_type\": \"\",\n        \"description\": \"\"\n      }\n    },\n    {\n      \"column\": \"PC Count\",\n      \"properties\": {\n        \"dtype\": \"number\",\n        \"std\": 52,\n        \"min\": 6,\n        \"max\": 407,\n        \"num_unique_values\": 224,\n        \"samples\": [\n          153,\n          57\n        ],\n        \"semantic_type\": \"\",\n        \"description\": \"\"\n      }\n    },\n    {\n      \"column\": \"Size\",\n      \"properties\": {\n        \"dtype\": \"number\",\n        \"std\": 100987,\n        \"min\": 10101,\n        \"max\": 766485,\n        \"num_unique_values\": 1991,\n        \"samples\": [\n          84071,\n          174845\n        ],\n        \"semantic_type\": \"\",\n        \"description\": \"\"\n      }\n    },\n    {\n      \"column\": \"Tech Support\",\n      \"properties\": {\n        \"dtype\": \"number\",\n        \"std\": 0,\n        \"min\": 0,\n        \"max\": 1,\n        \"num_unique_values\": 2,\n        \"samples\": [\n          1,\n          0\n        ],\n        \"semantic_type\": \"\",\n        \"description\": \"\"\n      }\n    },\n    {\n      \"column\": \"Discount\",\n      \"properties\": {\n        \"dtype\": \"number\",\n        \"std\": 0,\n        \"min\": 0,\n        \"max\": 1,\n        \"num_unique_values\": 2,\n        \"samples\": [\n          0,\n          1\n        ],\n        \"semantic_type\": \"\",\n        \"description\": \"\"\n      }\n    },\n    {\n      \"column\": \"Revenue\",\n      \"properties\": {\n        \"dtype\": \"number\",\n        \"std\": 11290.944450997291,\n        \"min\": -616.5724513,\n        \"max\": 86006.92445,\n        \"num_unique_values\": 2000,\n        \"samples\": [\n          15213.31743,\n          9371.622527\n        ],\n        \"semantic_type\": \"\",\n        \"description\": \"\"\n      }\n    }\n  ]\n}"
            }
          },
          "metadata": {},
          "execution_count": 7
        }
      ],
      "source": [
        "ab_data.head()"
      ]
    },
    {
      "cell_type": "code",
      "execution_count": null,
      "metadata": {
        "id": "rUOO28EZtwLR",
        "colab": {
          "base_uri": "https://localhost:8080/",
          "height": 304
        },
        "outputId": "14c784af-3bbc-416d-c06b-d8223e5c89be"
      },
      "outputs": [
        {
          "output_type": "error",
          "ename": "MessageError",
          "evalue": "Error: credential propagation was unsuccessful",
          "traceback": [
            "\u001b[0;31m---------------------------------------------------------------------------\u001b[0m",
            "\u001b[0;31mMessageError\u001b[0m                              Traceback (most recent call last)",
            "\u001b[0;32m<ipython-input-5-d5df0069828e>\u001b[0m in \u001b[0;36m<cell line: 2>\u001b[0;34m()\u001b[0m\n\u001b[1;32m      1\u001b[0m \u001b[0;32mfrom\u001b[0m \u001b[0mgoogle\u001b[0m\u001b[0;34m.\u001b[0m\u001b[0mcolab\u001b[0m \u001b[0;32mimport\u001b[0m \u001b[0mdrive\u001b[0m\u001b[0;34m\u001b[0m\u001b[0;34m\u001b[0m\u001b[0m\n\u001b[0;32m----> 2\u001b[0;31m \u001b[0mdrive\u001b[0m\u001b[0;34m.\u001b[0m\u001b[0mmount\u001b[0m\u001b[0;34m(\u001b[0m\u001b[0;34m'/content/drive'\u001b[0m\u001b[0;34m)\u001b[0m\u001b[0;34m\u001b[0m\u001b[0;34m\u001b[0m\u001b[0m\n\u001b[0m",
            "\u001b[0;32m/usr/local/lib/python3.10/dist-packages/google/colab/drive.py\u001b[0m in \u001b[0;36mmount\u001b[0;34m(mountpoint, force_remount, timeout_ms, readonly)\u001b[0m\n\u001b[1;32m     98\u001b[0m \u001b[0;32mdef\u001b[0m \u001b[0mmount\u001b[0m\u001b[0;34m(\u001b[0m\u001b[0mmountpoint\u001b[0m\u001b[0;34m,\u001b[0m \u001b[0mforce_remount\u001b[0m\u001b[0;34m=\u001b[0m\u001b[0;32mFalse\u001b[0m\u001b[0;34m,\u001b[0m \u001b[0mtimeout_ms\u001b[0m\u001b[0;34m=\u001b[0m\u001b[0;36m120000\u001b[0m\u001b[0;34m,\u001b[0m \u001b[0mreadonly\u001b[0m\u001b[0;34m=\u001b[0m\u001b[0;32mFalse\u001b[0m\u001b[0;34m)\u001b[0m\u001b[0;34m:\u001b[0m\u001b[0;34m\u001b[0m\u001b[0;34m\u001b[0m\u001b[0m\n\u001b[1;32m     99\u001b[0m   \u001b[0;34m\"\"\"Mount your Google Drive at the specified mountpoint path.\"\"\"\u001b[0m\u001b[0;34m\u001b[0m\u001b[0;34m\u001b[0m\u001b[0m\n\u001b[0;32m--> 100\u001b[0;31m   return _mount(\n\u001b[0m\u001b[1;32m    101\u001b[0m       \u001b[0mmountpoint\u001b[0m\u001b[0;34m,\u001b[0m\u001b[0;34m\u001b[0m\u001b[0;34m\u001b[0m\u001b[0m\n\u001b[1;32m    102\u001b[0m       \u001b[0mforce_remount\u001b[0m\u001b[0;34m=\u001b[0m\u001b[0mforce_remount\u001b[0m\u001b[0;34m,\u001b[0m\u001b[0;34m\u001b[0m\u001b[0;34m\u001b[0m\u001b[0m\n",
            "\u001b[0;32m/usr/local/lib/python3.10/dist-packages/google/colab/drive.py\u001b[0m in \u001b[0;36m_mount\u001b[0;34m(mountpoint, force_remount, timeout_ms, ephemeral, readonly)\u001b[0m\n\u001b[1;32m    131\u001b[0m   )\n\u001b[1;32m    132\u001b[0m   \u001b[0;32mif\u001b[0m \u001b[0mephemeral\u001b[0m\u001b[0;34m:\u001b[0m\u001b[0;34m\u001b[0m\u001b[0;34m\u001b[0m\u001b[0m\n\u001b[0;32m--> 133\u001b[0;31m     _message.blocking_request(\n\u001b[0m\u001b[1;32m    134\u001b[0m         \u001b[0;34m'request_auth'\u001b[0m\u001b[0;34m,\u001b[0m \u001b[0mrequest\u001b[0m\u001b[0;34m=\u001b[0m\u001b[0;34m{\u001b[0m\u001b[0;34m'authType'\u001b[0m\u001b[0;34m:\u001b[0m \u001b[0;34m'dfs_ephemeral'\u001b[0m\u001b[0;34m}\u001b[0m\u001b[0;34m,\u001b[0m \u001b[0mtimeout_sec\u001b[0m\u001b[0;34m=\u001b[0m\u001b[0;32mNone\u001b[0m\u001b[0;34m\u001b[0m\u001b[0;34m\u001b[0m\u001b[0m\n\u001b[1;32m    135\u001b[0m     )\n",
            "\u001b[0;32m/usr/local/lib/python3.10/dist-packages/google/colab/_message.py\u001b[0m in \u001b[0;36mblocking_request\u001b[0;34m(request_type, request, timeout_sec, parent)\u001b[0m\n\u001b[1;32m    174\u001b[0m       \u001b[0mrequest_type\u001b[0m\u001b[0;34m,\u001b[0m \u001b[0mrequest\u001b[0m\u001b[0;34m,\u001b[0m \u001b[0mparent\u001b[0m\u001b[0;34m=\u001b[0m\u001b[0mparent\u001b[0m\u001b[0;34m,\u001b[0m \u001b[0mexpect_reply\u001b[0m\u001b[0;34m=\u001b[0m\u001b[0;32mTrue\u001b[0m\u001b[0;34m\u001b[0m\u001b[0;34m\u001b[0m\u001b[0m\n\u001b[1;32m    175\u001b[0m   )\n\u001b[0;32m--> 176\u001b[0;31m   \u001b[0;32mreturn\u001b[0m \u001b[0mread_reply_from_input\u001b[0m\u001b[0;34m(\u001b[0m\u001b[0mrequest_id\u001b[0m\u001b[0;34m,\u001b[0m \u001b[0mtimeout_sec\u001b[0m\u001b[0;34m)\u001b[0m\u001b[0;34m\u001b[0m\u001b[0;34m\u001b[0m\u001b[0m\n\u001b[0m",
            "\u001b[0;32m/usr/local/lib/python3.10/dist-packages/google/colab/_message.py\u001b[0m in \u001b[0;36mread_reply_from_input\u001b[0;34m(message_id, timeout_sec)\u001b[0m\n\u001b[1;32m    101\u001b[0m     ):\n\u001b[1;32m    102\u001b[0m       \u001b[0;32mif\u001b[0m \u001b[0;34m'error'\u001b[0m \u001b[0;32min\u001b[0m \u001b[0mreply\u001b[0m\u001b[0;34m:\u001b[0m\u001b[0;34m\u001b[0m\u001b[0;34m\u001b[0m\u001b[0m\n\u001b[0;32m--> 103\u001b[0;31m         \u001b[0;32mraise\u001b[0m \u001b[0mMessageError\u001b[0m\u001b[0;34m(\u001b[0m\u001b[0mreply\u001b[0m\u001b[0;34m[\u001b[0m\u001b[0;34m'error'\u001b[0m\u001b[0;34m]\u001b[0m\u001b[0;34m)\u001b[0m\u001b[0;34m\u001b[0m\u001b[0;34m\u001b[0m\u001b[0m\n\u001b[0m\u001b[1;32m    104\u001b[0m       \u001b[0;32mreturn\u001b[0m \u001b[0mreply\u001b[0m\u001b[0;34m.\u001b[0m\u001b[0mget\u001b[0m\u001b[0;34m(\u001b[0m\u001b[0;34m'data'\u001b[0m\u001b[0;34m,\u001b[0m \u001b[0;32mNone\u001b[0m\u001b[0;34m)\u001b[0m\u001b[0;34m\u001b[0m\u001b[0;34m\u001b[0m\u001b[0m\n\u001b[1;32m    105\u001b[0m \u001b[0;34m\u001b[0m\u001b[0m\n",
            "\u001b[0;31mMessageError\u001b[0m: Error: credential propagation was unsuccessful"
          ]
        }
      ],
      "source": [
        "from google.colab import drive\n",
        "drive.mount('/content/drive')"
      ]
    },
    {
      "cell_type": "code",
      "execution_count": null,
      "metadata": {
        "id": "YsdZYbYu7U4q",
        "colab": {
          "base_uri": "https://localhost:8080/",
          "height": 141
        },
        "outputId": "79e521d4-f179-4c84-d3a5-dab4aab25d2b"
      },
      "outputs": [
        {
          "output_type": "error",
          "ename": "NameError",
          "evalue": "name 'df' is not defined",
          "traceback": [
            "\u001b[0;31m---------------------------------------------------------------------------\u001b[0m",
            "\u001b[0;31mNameError\u001b[0m                                 Traceback (most recent call last)",
            "\u001b[0;32m<ipython-input-10-656906254106>\u001b[0m in \u001b[0;36m<cell line: 1>\u001b[0;34m()\u001b[0m\n\u001b[0;32m----> 1\u001b[0;31m \u001b[0mdf\u001b[0m\u001b[0;34m[\u001b[0m\u001b[0;34m'target'\u001b[0m\u001b[0;34m]\u001b[0m\u001b[0;34m.\u001b[0m\u001b[0mvalue_counts\u001b[0m\u001b[0;34m(\u001b[0m\u001b[0;34m)\u001b[0m\u001b[0;34m\u001b[0m\u001b[0;34m\u001b[0m\u001b[0m\n\u001b[0m",
            "\u001b[0;31mNameError\u001b[0m: name 'df' is not defined"
          ]
        }
      ],
      "source": [
        "df['target'].value_counts()"
      ]
    },
    {
      "cell_type": "markdown",
      "metadata": {
        "id": "BusTIif77U4r"
      },
      "source": [
        "# Define Features"
      ]
    },
    {
      "cell_type": "code",
      "execution_count": null,
      "metadata": {
        "id": "TPlBYN8mOMmx"
      },
      "outputs": [],
      "source": []
    },
    {
      "cell_type": "code",
      "execution_count": null,
      "metadata": {
        "id": "H6mdClrv7U4r"
      },
      "outputs": [],
      "source": [
        "OUTCOME_COL = 'y_col'\n",
        "TREATMENT_COL = 'target'\n",
        "SCORE_COL = 'pihat'\n",
        "GROUPBY_COL = 'billing_zip'\n",
        "NAN_INT = -98765    # A random integer to impute missing values with"
      ]
    },
    {
      "cell_type": "code",
      "execution_count": null,
      "metadata": {
        "id": "ursgj0cG7U4s"
      },
      "outputs": [],
      "source": [
        "PROPENSITY_FEATURES = [\n",
        " 'prob_features_0',\n",
        " 'prob_features_1',\n",
        " 'prob_features_2',\n",
        " 'prob_features_3',\n",
        " 'prob_features_4',\n",
        " 'prob_features_5',\n",
        " 'prob_features_6',\n",
        " 'prob_features_7',\n",
        " 'prob_features_8',\n",
        " 'prob_features_9',\n",
        " 'prob_features_10',\n",
        " 'prob_features_11',\n",
        " 'prob_features_12',\n",
        " 'prob_features_13',\n",
        " 'prob_features_14',\n",
        " 'prob_features_15',\n",
        " 'prob_features_16',\n",
        " 'prob_features_17',\n",
        " 'prob_features_18',\n",
        " 'prob_features_19',\n",
        " 'prob_features_20',\n",
        " 'prob_features_21',\n",
        " 'prob_features_22',\n",
        " 'prob_features_23',\n",
        " 'prob_features_24',\n",
        " 'prob_features_25',\n",
        " 'prob_features_26',\n",
        " 'prob_features_27']\n",
        "\n",
        "MATCHING_COVARIATES = [\n",
        " 'prob_features_11',\n",
        " 'prob_features_17',\n",
        " 'prob_features_18',\n",
        " 'prob_features_19',\n",
        " 'prob_features_20',\n",
        " 'prob_features_21',\n",
        " 'prob_features_22',\n",
        " 'prob_features_23',\n",
        " 'prob_features_24'] + [SCORE_COL]\n",
        "\n",
        "INFERENCE_FEATURES = PROPENSITY_FEATURES + [SCORE_COL]"
      ]
    },
    {
      "cell_type": "code",
      "source": [
        "import numpy as np\n",
        "import pandas as pd\n",
        "import plotly.graph_objects as go\n",
        "from scipy.stats import beta\n",
        "\n",
        "# Random explore fixed period\n",
        "def ad_simulator_random_explore(horizon, k=None, alpha=None, beta=None, explore_rate=None, p_s=None):\n",
        "    if p_s is not None:\n",
        "        k = len(p_s)\n",
        "    else:\n",
        "        p_s = np.random.beta(alpha, beta, k)\n",
        "    visits = np.zeros(k, dtype=int)\n",
        "    clicks = np.zeros(k, dtype=int)\n",
        "\n",
        "    explore_period = int(horizon * explore_rate)\n",
        "    for i in range(explore_period):\n",
        "        machine = np.random.choice(k)\n",
        "        visits[machine] += 1\n",
        "        clicks[machine] += np.random.rand() < p_s[machine]\n",
        "\n",
        "    p_hats = np.zeros(k)\n",
        "    p_hats[visits > 0] = clicks[visits > 0] / visits[visits > 0]\n",
        "    learnt_rank = np.argsort(-p_hats)\n",
        "    best_estimated = learnt_rank[0]\n",
        "    visits[best_estimated] += horizon - explore_period\n",
        "    clicks[best_estimated] += np.sum(np.random.rand(horizon - explore_period) < p_s[best_estimated])\n",
        "    return pd.DataFrame({'p_s': p_s, 'p_hats': p_hats, 'visits': visits, 'clicks': clicks})\n",
        "\n",
        "# Deterministic explore fixed period\n",
        "def ad_simulator_deterministic_explore(horizon, k=None, alpha=None, beta=None, explore_rate=None, p_s=None):\n",
        "    if p_s is not None:\n",
        "        k = len(p_s)\n",
        "    else:\n",
        "        p_s = np.random.beta(alpha, beta, k)\n",
        "    visits = np.zeros(k, dtype=int)\n",
        "    clicks = np.zeros(k, dtype=int)\n",
        "\n",
        "    explore_period = int(horizon * explore_rate)\n",
        "    for i in range(explore_period):\n",
        "        machine = i % k\n",
        "        visits[machine] += 1\n",
        "        clicks[machine] += np.random.rand() < p_s[machine]\n",
        "\n",
        "    p_hats = np.zeros(k)\n",
        "    p_hats[visits > 0] = clicks[visits > 0] / visits[visits > 0]\n",
        "    learnt_rank = np.argsort(-p_hats)\n",
        "    best_estimated = learnt_rank[0]\n",
        "    visits[best_estimated] += horizon - explore_period\n",
        "    clicks[best_estimated] += np.sum(np.random.rand(horizon - explore_period) < p_s[best_estimated])\n",
        "    return pd.DataFrame({'p_s': p_s, 'p_hats': p_hats, 'visits': visits, 'clicks': clicks})\n",
        "\n",
        "# Initial values\n",
        "horizon = 10**3\n",
        "k = 100\n",
        "alpha = 0.1\n",
        "beta = 9.9\n",
        "explore_rate = 0.2\n",
        "n_test = 1000\n",
        "gain = pd.DataFrame({'random': np.zeros(n_test), 'deterministic': np.zeros(n_test)})\n",
        "\n",
        "for i in range(n_test):\n",
        "    p_s = np.random.beta(0.05, 5, k)\n",
        "\n",
        "    result = ad_simulator_random_explore(horizon=horizon, p_s=p_s, explore_rate=explore_rate)\n",
        "    gain.at[i, 'random'] = result['p_s'].max() - result['p_s'][result['p_hats'].idxmax()]\n",
        "\n",
        "    result = ad_simulator_deterministic_explore(horizon=horizon, p_s=p_s, explore_rate=explore_rate)\n",
        "    gain.at[i, 'deterministic'] = result['p_s'].max() - result['p_s'][result['p_hats'].idxmax()]\n",
        "\n",
        "# Plotting results\n",
        "fig = go.Figure()\n",
        "fig.add_trace(go.Scatter(x=gain.index, y=gain['random'], mode='lines+markers', name='Random'))\n",
        "fig.add_trace(go.Scatter(x=gain.index, y=gain['deterministic'], mode='lines+markers', name='Deterministic'))\n",
        "fig.show()\n",
        "\n",
        "# UCB 1\n",
        "def ucb(horizon, k=None, alpha=None, beta=None, p_s=None):\n",
        "    if p_s is not None:\n",
        "        k = len(p_s)\n",
        "    else:\n",
        "        p_s = np.random.beta(alpha, beta, k)\n",
        "    visits = np.zeros(k, dtype=int)\n",
        "    clicks = np.zeros(k, dtype=int)\n",
        "    p_hats = np.zeros(k)\n",
        "    upper_p = np.ones(k)\n",
        "    for i in range(horizon):\n",
        "        arm = np.argmax(upper_p)\n",
        "        clicks[arm] += np.random.rand() < p_s[arm]\n",
        "        visits[arm] += 1\n",
        "        p_hats[arm] = clicks[arm] / visits[arm]\n",
        "        upper_p[arm] = min(1, p_hats[arm] + 3 / np.sqrt(visits[arm]))\n",
        "    return pd.DataFrame({'p_s': p_s, 'p_hats': p_hats, 'upper_p': upper_p, 'visits': visits, 'clicks': clicks})\n",
        "\n",
        "# Run UCB simulation\n",
        "horizon = 10**3\n",
        "k = 100\n",
        "alpha = 0.1\n",
        "beta = 9.9\n",
        "p_s = np.random.beta(alpha, beta, k)\n",
        "result = ucb(horizon, p_s=p_s)\n",
        "result = result.sort_values(by='p_s', ascending=False)\n",
        "print(result.head())\n"
      ],
      "metadata": {
        "colab": {
          "base_uri": "https://localhost:8080/",
          "height": 646
        },
        "id": "4zY37Y-dvH1n",
        "outputId": "d45d31a0-ff00-48ba-9fba-3987072ffb81"
      },
      "execution_count": null,
      "outputs": [
        {
          "output_type": "display_data",
          "data": {
            "text/html": [
              "<html>\n",
              "<head><meta charset=\"utf-8\" /></head>\n",
              "<body>\n",
              "    <div>            <script src=\"https://cdnjs.cloudflare.com/ajax/libs/mathjax/2.7.5/MathJax.js?config=TeX-AMS-MML_SVG\"></script><script type=\"text/javascript\">if (window.MathJax && window.MathJax.Hub && window.MathJax.Hub.Config) {window.MathJax.Hub.Config({SVG: {font: \"STIX-Web\"}});}</script>                <script type=\"text/javascript\">window.PlotlyConfig = {MathJaxConfig: 'local'};</script>\n",
              "        <script charset=\"utf-8\" src=\"https://cdn.plot.ly/plotly-2.24.1.min.js\"></script>                <div id=\"f5a5d0c6-87d5-40d8-aed2-735fe7dd2fa7\" class=\"plotly-graph-div\" style=\"height:525px; width:100%;\"></div>            <script type=\"text/javascript\">                                    window.PLOTLYENV=window.PLOTLYENV || {};                                    if (document.getElementById(\"f5a5d0c6-87d5-40d8-aed2-735fe7dd2fa7\")) {                    Plotly.newPlot(                        \"f5a5d0c6-87d5-40d8-aed2-735fe7dd2fa7\",                        [{\"mode\":\"lines+markers\",\"name\":\"Random\",\"x\":[0,1,2,3,4,5,6,7,8,9,10,11,12,13,14,15,16,17,18,19,20,21,22,23,24,25,26,27,28,29,30,31,32,33,34,35,36,37,38,39,40,41,42,43,44,45,46,47,48,49,50,51,52,53,54,55,56,57,58,59,60,61,62,63,64,65,66,67,68,69,70,71,72,73,74,75,76,77,78,79,80,81,82,83,84,85,86,87,88,89,90,91,92,93,94,95,96,97,98,99,100,101,102,103,104,105,106,107,108,109,110,111,112,113,114,115,116,117,118,119,120,121,122,123,124,125,126,127,128,129,130,131,132,133,134,135,136,137,138,139,140,141,142,143,144,145,146,147,148,149,150,151,152,153,154,155,156,157,158,159,160,161,162,163,164,165,166,167,168,169,170,171,172,173,174,175,176,177,178,179,180,181,182,183,184,185,186,187,188,189,190,191,192,193,194,195,196,197,198,199,200,201,202,203,204,205,206,207,208,209,210,211,212,213,214,215,216,217,218,219,220,221,222,223,224,225,226,227,228,229,230,231,232,233,234,235,236,237,238,239,240,241,242,243,244,245,246,247,248,249,250,251,252,253,254,255,256,257,258,259,260,261,262,263,264,265,266,267,268,269,270,271,272,273,274,275,276,277,278,279,280,281,282,283,284,285,286,287,288,289,290,291,292,293,294,295,296,297,298,299,300,301,302,303,304,305,306,307,308,309,310,311,312,313,314,315,316,317,318,319,320,321,322,323,324,325,326,327,328,329,330,331,332,333,334,335,336,337,338,339,340,341,342,343,344,345,346,347,348,349,350,351,352,353,354,355,356,357,358,359,360,361,362,363,364,365,366,367,368,369,370,371,372,373,374,375,376,377,378,379,380,381,382,383,384,385,386,387,388,389,390,391,392,393,394,395,396,397,398,399,400,401,402,403,404,405,406,407,408,409,410,411,412,413,414,415,416,417,418,419,420,421,422,423,424,425,426,427,428,429,430,431,432,433,434,435,436,437,438,439,440,441,442,443,444,445,446,447,448,449,450,451,452,453,454,455,456,457,458,459,460,461,462,463,464,465,466,467,468,469,470,471,472,473,474,475,476,477,478,479,480,481,482,483,484,485,486,487,488,489,490,491,492,493,494,495,496,497,498,499,500,501,502,503,504,505,506,507,508,509,510,511,512,513,514,515,516,517,518,519,520,521,522,523,524,525,526,527,528,529,530,531,532,533,534,535,536,537,538,539,540,541,542,543,544,545,546,547,548,549,550,551,552,553,554,555,556,557,558,559,560,561,562,563,564,565,566,567,568,569,570,571,572,573,574,575,576,577,578,579,580,581,582,583,584,585,586,587,588,589,590,591,592,593,594,595,596,597,598,599,600,601,602,603,604,605,606,607,608,609,610,611,612,613,614,615,616,617,618,619,620,621,622,623,624,625,626,627,628,629,630,631,632,633,634,635,636,637,638,639,640,641,642,643,644,645,646,647,648,649,650,651,652,653,654,655,656,657,658,659,660,661,662,663,664,665,666,667,668,669,670,671,672,673,674,675,676,677,678,679,680,681,682,683,684,685,686,687,688,689,690,691,692,693,694,695,696,697,698,699,700,701,702,703,704,705,706,707,708,709,710,711,712,713,714,715,716,717,718,719,720,721,722,723,724,725,726,727,728,729,730,731,732,733,734,735,736,737,738,739,740,741,742,743,744,745,746,747,748,749,750,751,752,753,754,755,756,757,758,759,760,761,762,763,764,765,766,767,768,769,770,771,772,773,774,775,776,777,778,779,780,781,782,783,784,785,786,787,788,789,790,791,792,793,794,795,796,797,798,799,800,801,802,803,804,805,806,807,808,809,810,811,812,813,814,815,816,817,818,819,820,821,822,823,824,825,826,827,828,829,830,831,832,833,834,835,836,837,838,839,840,841,842,843,844,845,846,847,848,849,850,851,852,853,854,855,856,857,858,859,860,861,862,863,864,865,866,867,868,869,870,871,872,873,874,875,876,877,878,879,880,881,882,883,884,885,886,887,888,889,890,891,892,893,894,895,896,897,898,899,900,901,902,903,904,905,906,907,908,909,910,911,912,913,914,915,916,917,918,919,920,921,922,923,924,925,926,927,928,929,930,931,932,933,934,935,936,937,938,939,940,941,942,943,944,945,946,947,948,949,950,951,952,953,954,955,956,957,958,959,960,961,962,963,964,965,966,967,968,969,970,971,972,973,974,975,976,977,978,979,980,981,982,983,984,985,986,987,988,989,990,991,992,993,994,995,996,997,998,999],\"y\":[0.20637930481737185,0.1324397836457809,0.23051418787075262,0.13977474820597133,0.06193776434960976,0.0518607308040952,0.28628747164021673,0.0,0.00436973847350719,0.2457710039631204,0.3876765681868777,0.04431506249884973,0.29873079371887357,0.0,0.48192025302799496,0.0012026645849324002,0.0,0.2478818928483929,0.06922350219627119,0.274299186304281,0.0,0.0,0.0,0.07603859702371024,0.0,0.0,0.31471656628383876,0.0,0.28217271821715467,0.10436884160632935,0.2531173530488297,0.14409552540141662,0.11085020987713365,0.10353745804671166,0.0,0.08068893678618053,0.07765693507404356,0.006592864101842455,0.04006356488174606,0.0,0.22465519274931822,0.22402727364692288,0.37808416492896113,0.0,0.19105985477873527,0.07065277814602244,0.22377298840365334,0.3001171595085164,0.1546207382125926,0.2171209125134706,0.1327711695230172,0.2570948112389228,0.1717790312510823,0.188555090563427,0.12832612383316852,0.0,0.1043950096079754,0.1544608924494402,0.0,0.42494613127659425,0.030029098159523954,0.06343226461702287,0.0,0.0,0.021322917957600995,0.08309268441164566,0.07016992298515129,0.24257962528327714,0.08708922054942683,0.0,0.0031560988809272716,0.0783442291713753,0.19000010737974413,0.0,0.30091776053842173,0.2975822191921237,0.07182881233050287,0.31390572801780775,0.12146234639947384,0.1344229695928583,0.0,0.3237902222734746,0.0,0.25141508519459466,0.05162595789395666,0.03491941156204795,0.11571084222395578,0.0,0.27291288042732753,0.04818530002605506,0.2259679942486556,0.06668081086059612,0.11645293824102054,0.32993847230042317,0.35212109395588315,0.2705342787811616,0.06552043422667297,0.16349973083822888,0.021161757137146797,0.0,0.0,0.23382082493312473,0.05665099523071476,0.015532958906666075,0.255703051377047,0.31090992820414587,0.036340066110469416,0.0,0.09839649942357422,0.3460140058035122,0.16228440365805383,0.13514408570278452,0.29683670615437013,0.09908229638236889,0.05338812996535863,0.14713335551126042,0.08619636076858732,0.24361440401431722,0.09432071546031132,0.32680404563531057,0.04851252465214968,0.06811692541148034,0.2672391608082886,0.11403683552776556,0.22086503438954602,0.0,0.30948874814225336,0.0,0.2054592863851868,0.0,0.534760382623629,0.0,0.44657384383781995,0.05065244649373548,0.0,0.5754460068272192,0.0,0.033068481656652826,0.1844146393917887,0.06527397480060232,0.03308895133875717,0.06982161691244497,0.1303192966689451,0.0,0.32255596850782864,0.03086006768736882,0.036707251283422726,0.0,0.027447868843327936,0.08210974306064578,0.0,0.10912837131857434,0.12886319690109466,0.14705083547092412,0.0,0.11401951521502829,0.16040298846099443,0.03255651577434683,0.0455086538755585,0.15331769348923455,0.06500588776182271,0.18580066663587316,0.2403457397457258,0.07099574963136507,0.04827321079597667,0.04015940524770702,0.3319911045661855,0.03414684736724129,0.04935269870779968,0.2050523003379193,0.2937586532815165,0.21509773851834313,0.21581023046586967,0.16666509068745464,0.1240462758752158,0.2099361500498885,0.17523528031614455,0.2772830569444005,0.09864468320955858,0.11011659496087883,0.2137215922732832,0.0,0.07917251186673978,0.0,0.0,0.0,0.13785016047589013,0.2518888290666857,0.0,0.0,0.2180363526069188,0.1361958369737429,0.3628105357269747,0.14358107356694705,0.3402056393359222,0.24828752566719323,0.13904729439541683,0.30876871278664975,0.0,0.2023714370054665,0.17538555304191988,0.0,0.0,0.35448415014122886,0.0976522179124033,0.12652638034935446,0.2991437352071157,0.16588663436731282,0.0,0.5552975339306985,0.11905707330493046,0.05807303116710192,0.055327090975311494,0.2672258788050549,0.2547252994641689,0.23780735186109073,0.5214880077801284,0.0,0.11915826177515441,0.2723643774067526,0.22926508498536116,0.0,0.0,0.04745179911269831,0.12129406174681165,0.03485931375718049,0.06206377594618917,0.30249957446715825,0.3454163768887274,0.09476938435107474,0.3688700436927452,0.0,0.1950721610721841,0.14484595682194829,0.3178260661488018,0.0607088957343902,0.05327591094659452,0.25512185494717154,0.0,0.20110928571544504,0.4843083864703995,0.33296458663201645,0.2763269481785978,0.0,0.11351920231344571,0.0,0.0,0.23462671993714676,0.07287806142587364,0.0,0.08900335863896267,0.0743765408533144,0.21831358057874878,0.20025847377298858,0.0,0.21586993260630627,0.18870726485994682,0.05461919367086618,0.0,0.21813429704596693,0.20468611410392973,0.18741583903025172,0.3156290642957474,0.07990599608062782,0.014000159887335717,0.002611109754285579,0.15198612581031304,0.17926313717212733,0.1925837956976747,0.06378649715521748,0.0659081254044727,0.0,0.0,0.0,0.0,0.26208922729511236,0.06721859854857033,0.0,0.0,0.053118871902632765,0.0,0.1890778113525644,0.09902051448830593,0.1917328345536764,0.23780772058774208,0.0,0.3131597989510521,0.0,0.3977017506530318,0.0,0.14079257397102263,0.18039727756021634,0.0,0.17557376495879398,0.0,0.6005787145151447,0.005067646683297691,0.0,0.0,0.26066089943221327,0.2483353145243123,0.05736903460014314,0.08044396687880555,0.13264355204965017,0.1043717313200076,0.0,0.2859343691488053,0.08557892859625701,0.13823819869712364,0.12865219052471083,0.2607668870173482,0.22334236138752694,0.03583349003706285,0.6630804064585891,0.0,0.0,0.2866949423798586,0.17273565066486704,0.06435189125275703,0.3590289788449343,0.25273192856964577,0.2576388493215662,0.0,0.16258990709559837,0.1287990282367717,0.0,0.1324696898205946,0.0,0.2764206512355779,0.0,0.14168417905817476,0.0,0.0,0.41083024968712983,0.0,0.25680708587811907,0.1394117921284154,0.09373716141781828,0.0,0.06780138542251185,0.2801776632243434,0.13677774560342087,0.050199464095816604,0.40648134225447474,0.0,0.2779602238335384,0.23694231575290842,0.19487483070584288,0.04271655638195912,0.020436987210743517,0.046797756240870736,0.049746315660895754,0.3515161174829569,0.0,0.07212445071245663,0.08591700237900188,0.17386547888591156,0.0,0.19039265281854062,0.16718299275307374,0.11285735784097023,0.0,0.32664669697708587,0.10105150160113503,0.11626932295759536,0.44598411889043343,0.15245109226064985,0.12436769049197297,0.10536947465300306,0.15405698280901742,0.3745672867053726,0.0,0.2979893110857153,0.33907924816997215,0.24026892509701925,0.28236454531072447,0.09765402060840117,0.1446860522478789,0.41361478989650896,0.02987242534303365,0.18778741185294373,0.14520210103981163,0.11725902195097994,0.2133867299962858,0.0,0.11259684796491432,0.07370628358625403,0.0,0.08220464871877528,0.35623964538805813,0.13207651983106536,0.2518465187504677,0.12512784187208717,0.0,0.12099670109533416,0.42189426800572855,0.0,0.0,0.06746612754921644,0.0,0.138422437594899,0.0,0.17456776997318565,0.08342175853353775,0.0,0.22553450043606615,0.26978779065197506,0.23663078845777916,0.4088797926140847,0.05947186791712469,0.5013305534892321,0.0,0.14189891026192164,0.28478753739566376,0.0,0.04951575995650269,0.0,0.0,0.0,0.0,0.1444967487562982,0.27275077871135545,0.1917539119519192,0.08840018547847842,0.2584918858423895,0.0,0.1376716862672095,0.0,0.0,0.0,0.0,0.25812154559417144,0.31269194011944873,0.17558414280377327,0.12909056059067095,0.0,0.02384724080355416,0.11319350782332158,0.0,0.20800936740669207,0.0,0.16778852517745466,0.0,0.20359331129290756,0.2367565337739647,0.06861234932697001,0.20320372095675132,0.0,0.0,0.018624523333256066,0.10319498832093829,0.08948621987207328,0.0,0.04519100925205298,0.09254917676656844,0.24603305481861013,0.06716752251609,0.06059102573693281,0.010346167407631307,0.17287845110720573,0.32104942808460285,0.10063825325340968,0.17470981122593154,0.0,0.17332404214341982,0.0,0.3084399179813534,0.33118453788615515,0.22348978116487678,0.0,0.3081854271828219,0.33892038920896833,0.0993616748347287,0.1714048457999353,0.19684966674889426,0.2027102683136021,0.1863391076010843,0.0,0.18120196621120654,0.1254103700003548,0.08376036804378566,0.0,0.05254405482494673,0.0,0.5785602737528116,0.41266898424572634,0.0,0.12396635097512018,0.0,0.14466114692260562,0.08324021724017994,0.013435661792193757,0.28835660903944116,0.16476816927570065,0.0,0.09511762936569884,0.048957924040803125,0.29062211662808507,0.2504099972195645,0.07940693889696569,0.3041991492254097,0.26177693627635823,0.11430107062720472,0.2403506772050735,0.301040038824775,0.004935194918565922,0.12519987519395226,0.15183626988903648,0.18338712710618565,0.09198705357854299,0.05246129723732848,0.05697922477905046,0.05381081703974311,0.2512262097238632,0.19260822038786188,0.16912580743574504,0.24739232402600847,0.05439635230583889,0.29383581659559593,0.19785564833384756,0.0,0.09475317517630544,0.20969758364262286,0.21774069046707933,0.0,0.16337051579475143,0.09844384653340983,0.45917691608983807,0.27556732891047053,0.2591570325876124,0.3091941202919738,0.11119714907100856,0.33037270734488666,0.28096161020586596,0.0,0.0683625763839518,0.33784046894445796,0.08048626912890572,0.0,0.2545561034048068,0.48631347284028176,0.26159552987397194,0.16539134570803768,0.0,0.0,0.2754314529771315,0.0,0.14242836630898176,0.24331554205213932,0.30593793023481625,0.0,0.0,0.0,0.2184711635029389,0.08863054515881671,0.07027251548696255,0.40800452124885767,0.3195957976743664,0.12751337693819298,0.17139250683661783,0.0,0.1563777822051216,0.1393337199225324,0.16802192330426627,0.14026612399279464,0.4613324519780727,0.06607684318946272,0.0,0.19947940456474542,0.33860194503179825,0.22843845951245503,0.3606797936475249,0.0,0.20739158280921924,0.03938157057464978,0.16332134012390961,0.07700976181271475,0.1892205363386246,0.15831185341136553,0.31291528140101127,0.12640885817990005,0.17624841557441423,0.22853180760646527,0.0,0.20064355353170296,0.0,0.1279674906417479,0.05260769317957415,0.0376195913565488,0.38248990884271317,0.0447520779375577,0.21196682735811928,0.4190840496335224,0.0,0.15428987740987188,0.16600540852008486,0.052918271187320114,0.1887775213032261,0.0,0.20252716685954314,0.029704269924635485,0.11686159079649351,0.15547302098041407,0.1957933169076932,0.1206475703743034,0.010262270277099805,0.10257081587820926,0.3436119916219056,0.0,0.25214263286272715,0.2444677729445137,0.3906136294789005,0.04865954475566957,0.0,0.5014631823338546,0.2626316768101786,0.0,0.30334275716337405,0.4173841281602029,0.21823292435392946,0.0,0.0,0.45476003243599894,0.18006489877612478,0.0,0.07083888349203872,0.16019436257495664,0.17818458032175089,0.0,0.0,0.08637711671120449,0.0,0.0,0.2707350432408141,0.1948569158702595,0.04668856894417704,0.05133930043414392,0.08939579357765592,0.029662917409494227,0.0,0.39977922154451573,0.18402076216780533,0.4473895538322582,0.2949586406130793,0.2487482497811,0.2730693532559197,0.0,0.0,0.36857599463250035,0.049306145941385396,0.03772434164238295,0.0552131734893172,0.35256542763415355,0.09177177883471818,0.14625233011338615,0.07583143508593475,0.08479487379114481,0.167132042118976,0.0,0.17549780093790399,0.0,0.0,0.0,0.09680454111601436,0.25334360176501275,0.0,0.07892083924166399,0.272656236572091,0.108832863468353,0.17198266537902562,0.2640992270728046,0.2717339304766413,0.08572689459535204,0.0,0.0,0.272959808254821,0.0,0.23242213168761458,0.30544724138567125,0.04479295204759701,0.033269368631318644,0.12411918174787732,0.14908293810456283,0.0913965487864517,0.181001982738957,0.19684680799272705,0.052919406561654836,0.0,0.0,0.013498360583349134,0.0242641918600236,0.29321337323907243,0.12082240348007905,0.20967470886661815,0.15217714223670828,0.20929917290759636,0.013851781576615763,0.5523193816090156,0.07470907315269704,0.06340279344185361,0.0139685315011383,0.0,0.22450270744878026,0.0,0.11617410235541997,0.08762187453966028,0.0,0.023609599724789043,0.0,0.15269082727252856,0.10914619897406617,0.09154692273956441,0.0656632336546987,0.18158568494508343,0.0,0.0,0.0,0.20344700027311466,0.2586129418797174,0.3546327998080784,0.0,0.0,0.15509135125513923,0.09417713763409208,0.0,0.14596708119743682,0.20869951532621708,0.25263558680457726,0.08023245574295151,0.0,0.152470726255509,0.0,0.05957522218550979,0.1020819370688339,0.0,0.32541495821670424,0.0,0.0,0.30124097609658046,0.209992304430652,0.20821786777472462,0.015316173899945329,0.13039368267716392,0.15514783721468667,0.08205157824045632,0.25621304081549107,0.2219677697739723,0.17694175390354416,0.30524927269742747,0.0,0.0,0.18847393978992205,0.0,0.0,0.32627113301361593,0.0,0.33933121060715415,0.1567973738371193,0.18441385097561414,0.0,0.18292860001906888,0.11839090072441283,0.40210137667334117,0.23491257094053747,0.02092742796562702,0.10226443746228257,0.3368364054174487,0.1865647065557378,0.24793718550381086,0.05838669035054722,0.0,0.0,0.12366443621933924,0.0,0.06014183563276773,0.0,0.37704896132911014,0.48376600003161707,0.0,0.07925690576789829,0.2808793847887464,0.43958500725343175,0.09522528235116406,0.03836719447410883,0.03021601957236217,0.16783596922290808,0.27412128612485986,0.0,0.06410968030138717,0.057939165301645584,0.15377938987616357,0.0,0.0,0.36381307438706206,0.15023918854763374,0.0984280013492605,0.040749995697110464,0.0,0.0,0.2913368350753515,0.0,0.0,0.3981995122535254,0.27948747253338035,0.0,0.1083430781694839,0.0,0.13460299652666738,0.12257256432892856,0.09600789577424884,0.0,0.2014560821955393,0.35505932441256804,0.2116457799129575,0.0,0.44853484610636635,0.2490701244617669,0.1271779418955593,0.1474144481051608,0.04727362053347363,0.42005323747740037,0.11359010406961151,0.3145261037306367,0.10106474907744153,0.102687710099636,0.05961848216307158,0.1947054210465347,0.16212024496980434,0.0,0.2397554573127565,0.04114867262160837,0.0589648433915973,0.0626109754799428,0.15345569290743896,0.3034852552772511,0.13173985202432417,0.0036559602618834453,0.0,0.12481526448852756,0.0,0.21742651613776964,0.0006345212829740321,0.0,0.20058641215447118,0.1084975263921937,0.30415504100731755,0.2657477305622876,0.15280341310559578,0.1170361811898881,0.1553749378227638,0.16480481544771897,0.42393919792078993,0.17705033215503657,0.28419834506954095,0.23214563294887602,0.3228343273243505,0.20698670998995566,0.08154154941035849,0.3310682419587294,0.18338520668076602,0.14898500396101094,0.14619565943871446,0.12411772880913224,0.0,0.19694698610744704,0.0,0.2528781997666897,0.0,0.01968384664445691,0.17187418075249222,0.3294442086940905,0.09726782468883828,0.17031650942017704,0.1642928755046697,0.0,0.046225895272799244,0.24563078381244077,0.14259765798817012,0.223877253995804,0.16818126022306157,0.17715248799879582,0.0,0.18224217062314532,0.21648532447273577,0.07473399805295633,0.19546173826958158,0.017457156898204595,0.43893551917925283,0.3170685141010865,0.0,0.1474898837130421,0.0,0.1402244581192127,0.0,0.2633626711601168,0.0,0.3193036948013299,0.0,0.48861329179209434,0.42244667205190156,0.10373803809095009,0.24500030156659708,0.023357267907457235,0.09514429862453233,0.0,0.0,0.06972508316104142,0.09780738395899262,0.0,0.2783928175356366,0.0,0.12971582019316155,0.0,0.1945922911073692,0.3076410191393368,0.23218522720986182,0.0,0.26345943253175624,0.0,0.3036206412623175,0.23898047077397008,0.0453282297426149,0.0,0.11696784702201296,0.16277366425732354,0.027048866397669513,0.36789630827768366,0.0,0.0,0.36420010879720305,0.1617362886759206,0.1312165656734395,0.0,0.1198326283125633,0.31575505801367093,0.1943037479741746,0.0,0.19812500286704346,0.28723450957348506,0.0,0.29509067457234534,0.0782471544480521,0.05223949146345909,0.13522187591636217,0.28263100254091644,0.1776874518465713,0.11409839906507946,0.5205365729187107,0.0,0.0,0.02481217864881881,0.0,0.0,0.17704662526762735,0.3384220695423928,0.0,0.0,0.13552740913429798,0.0,0.20541563188762474,0.0,0.13152198291509606,0.25164976372611186,0.0,0.03157912030001478,0.2399859756737054,0.0,0.0,0.033591610152949314,0.2736389072197502,0.0,0.16421900283022375,0.0644139343386021,0.0,0.3479816750884871,0.2563417156983133,0.24980401870236021,0.0,0.0,0.0,0.0,0.10677364582326895,0.3331913224420588,0.0905267830551596,0.0,0.0,0.0,0.0,0.31118360557193436,0.20855409932742933,0.2884606500655044,0.2570886019332452,0.0,0.11614526875443887,0.24344683082424537,0.13927988159603555,0.24797106851139525,0.11656320957546554,0.00940913597230747,0.16885770887483215],\"type\":\"scatter\"},{\"mode\":\"lines+markers\",\"name\":\"Deterministic\",\"x\":[0,1,2,3,4,5,6,7,8,9,10,11,12,13,14,15,16,17,18,19,20,21,22,23,24,25,26,27,28,29,30,31,32,33,34,35,36,37,38,39,40,41,42,43,44,45,46,47,48,49,50,51,52,53,54,55,56,57,58,59,60,61,62,63,64,65,66,67,68,69,70,71,72,73,74,75,76,77,78,79,80,81,82,83,84,85,86,87,88,89,90,91,92,93,94,95,96,97,98,99,100,101,102,103,104,105,106,107,108,109,110,111,112,113,114,115,116,117,118,119,120,121,122,123,124,125,126,127,128,129,130,131,132,133,134,135,136,137,138,139,140,141,142,143,144,145,146,147,148,149,150,151,152,153,154,155,156,157,158,159,160,161,162,163,164,165,166,167,168,169,170,171,172,173,174,175,176,177,178,179,180,181,182,183,184,185,186,187,188,189,190,191,192,193,194,195,196,197,198,199,200,201,202,203,204,205,206,207,208,209,210,211,212,213,214,215,216,217,218,219,220,221,222,223,224,225,226,227,228,229,230,231,232,233,234,235,236,237,238,239,240,241,242,243,244,245,246,247,248,249,250,251,252,253,254,255,256,257,258,259,260,261,262,263,264,265,266,267,268,269,270,271,272,273,274,275,276,277,278,279,280,281,282,283,284,285,286,287,288,289,290,291,292,293,294,295,296,297,298,299,300,301,302,303,304,305,306,307,308,309,310,311,312,313,314,315,316,317,318,319,320,321,322,323,324,325,326,327,328,329,330,331,332,333,334,335,336,337,338,339,340,341,342,343,344,345,346,347,348,349,350,351,352,353,354,355,356,357,358,359,360,361,362,363,364,365,366,367,368,369,370,371,372,373,374,375,376,377,378,379,380,381,382,383,384,385,386,387,388,389,390,391,392,393,394,395,396,397,398,399,400,401,402,403,404,405,406,407,408,409,410,411,412,413,414,415,416,417,418,419,420,421,422,423,424,425,426,427,428,429,430,431,432,433,434,435,436,437,438,439,440,441,442,443,444,445,446,447,448,449,450,451,452,453,454,455,456,457,458,459,460,461,462,463,464,465,466,467,468,469,470,471,472,473,474,475,476,477,478,479,480,481,482,483,484,485,486,487,488,489,490,491,492,493,494,495,496,497,498,499,500,501,502,503,504,505,506,507,508,509,510,511,512,513,514,515,516,517,518,519,520,521,522,523,524,525,526,527,528,529,530,531,532,533,534,535,536,537,538,539,540,541,542,543,544,545,546,547,548,549,550,551,552,553,554,555,556,557,558,559,560,561,562,563,564,565,566,567,568,569,570,571,572,573,574,575,576,577,578,579,580,581,582,583,584,585,586,587,588,589,590,591,592,593,594,595,596,597,598,599,600,601,602,603,604,605,606,607,608,609,610,611,612,613,614,615,616,617,618,619,620,621,622,623,624,625,626,627,628,629,630,631,632,633,634,635,636,637,638,639,640,641,642,643,644,645,646,647,648,649,650,651,652,653,654,655,656,657,658,659,660,661,662,663,664,665,666,667,668,669,670,671,672,673,674,675,676,677,678,679,680,681,682,683,684,685,686,687,688,689,690,691,692,693,694,695,696,697,698,699,700,701,702,703,704,705,706,707,708,709,710,711,712,713,714,715,716,717,718,719,720,721,722,723,724,725,726,727,728,729,730,731,732,733,734,735,736,737,738,739,740,741,742,743,744,745,746,747,748,749,750,751,752,753,754,755,756,757,758,759,760,761,762,763,764,765,766,767,768,769,770,771,772,773,774,775,776,777,778,779,780,781,782,783,784,785,786,787,788,789,790,791,792,793,794,795,796,797,798,799,800,801,802,803,804,805,806,807,808,809,810,811,812,813,814,815,816,817,818,819,820,821,822,823,824,825,826,827,828,829,830,831,832,833,834,835,836,837,838,839,840,841,842,843,844,845,846,847,848,849,850,851,852,853,854,855,856,857,858,859,860,861,862,863,864,865,866,867,868,869,870,871,872,873,874,875,876,877,878,879,880,881,882,883,884,885,886,887,888,889,890,891,892,893,894,895,896,897,898,899,900,901,902,903,904,905,906,907,908,909,910,911,912,913,914,915,916,917,918,919,920,921,922,923,924,925,926,927,928,929,930,931,932,933,934,935,936,937,938,939,940,941,942,943,944,945,946,947,948,949,950,951,952,953,954,955,956,957,958,959,960,961,962,963,964,965,966,967,968,969,970,971,972,973,974,975,976,977,978,979,980,981,982,983,984,985,986,987,988,989,990,991,992,993,994,995,996,997,998,999],\"y\":[0.11575085954992878,0.06376483551110354,0.0,0.0027200535315871355,0.02406936665432091,0.16438642931215214,0.07448251482896273,0.21643152961912648,0.10009032304330379,0.2457710039631204,0.0,0.06622418970800217,0.18308366594025727,0.2192877990076657,0.0,0.25937438681659936,0.19317568834384174,0.0,0.21324737068913352,0.0,0.25471028725606254,0.05209757426635375,0.0,0.10062250997749028,0.1468337413858454,0.12879247012350098,0.0,0.2459984531421339,0.20305063455904912,0.045991929554184005,0.15736499499254353,0.0,0.18462961594016833,0.05593179409137275,0.18326911185227793,0.0005989102841274518,0.027006500092175367,0.27527305635258653,0.02767673342215439,0.0,0.27295366625521417,0.10900481926519692,0.49900508647988057,0.01011108221682791,0.16785281195826415,0.14827861063334105,0.21193982361649824,0.03612899895636057,0.06963570038404679,0.0,0.005370171735544077,0.23820735789534328,0.024531704889261013,0.188555090563427,0.06588927887257633,0.0,0.12555814791090364,0.1544608924494402,0.339989554586161,0.0,0.030029098159523954,0.06378135711131416,0.25194613494290197,0.0,0.0,0.0,0.010722169501694093,0.24257962528327714,0.04575267155105382,0.06869732866561855,0.016992453004959773,0.08944010168550452,0.3266130131101685,0.08051132909648673,0.0,0.2975822191921237,0.13808689549910863,0.36975022446435774,0.16596634180811737,0.0324919655250927,0.34196448917252664,0.12257280999188128,0.15561199755322977,0.19615346220063862,0.1812200267865476,0.1297557675114066,0.15145329506809674,0.26567877732873474,0.2055960586917006,0.15723987526847744,0.0,0.18974266823499794,0.34953753472130866,0.0,0.0,0.21909755375248216,0.0,0.25054801153003214,0.10329814271704207,0.15951202398388897,0.089595571484201,0.23398672486126368,0.1380285146997533,0.04138208326860068,0.2806104798034772,0.0,0.0,0.11419502453915864,0.10931419124152278,0.0,0.17570820838864357,0.1032071625054839,0.1683189035083603,0.09908229638236889,0.28780460283748743,0.019646880340207062,0.1786725477344546,0.24361440401431722,0.16884432484230824,0.0,0.04851252465214968,0.09590430116269888,0.2672391608082886,0.11403683552776556,0.19797118870275968,0.09309205950739656,0.0,0.4500185914671603,0.0,0.0,0.0,0.088150093709674,0.3207880003865712,0.0,0.0,0.0,0.0,0.033068481656652826,0.0,0.11116445793522316,0.0,0.04034374851166128,0.010073789547398404,0.5106998315433238,0.2953766713288863,0.015157550020250002,0.08382204419720371,0.11520718856203953,0.06019690664690209,0.24228075029372276,0.0,0.1137145674387913,0.15194764686241935,0.14425014124560068,0.1276001327682571,0.0,0.16040298846099443,0.09419034923562455,0.0,0.2569196603683248,0.14678963591162328,0.15220042781672039,0.1632034443916615,0.07099574963136507,0.03357647191418081,0.0,0.0,0.0,0.027053346367062525,0.2050523003379193,0.0,0.0,0.0,0.22654684328386335,0.1610858927291715,0.2099361500498885,0.0,0.1406384873011568,0.18041142053389525,0.11011659496087883,0.0,0.3130903056080899,0.07225216185346654,0.16350886778020757,0.10602200301754028,0.21840090401950535,0.13785016047589013,0.1505835769290229,0.0,0.0,0.21442289832262362,0.0,0.0,0.0,0.47163102040483434,0.0,0.13787748884251871,0.28912212895116485,0.029437841881139182,0.4329930874470735,0.1936358069233976,0.09779208747753533,0.0,0.3254534410906015,0.0,0.005348085783764875,0.2968434860852329,0.2296482435994221,0.08664280830795507,0.0,0.0,0.07028725971197403,0.26744242471414664,0.09788972116353781,0.19742484706158353,0.04041567080967576,0.48951967948866826,0.0,0.13668840370842303,0.0,0.22926508498536116,0.33300717924578366,0.14752280510457377,0.07717164212422574,0.12129406174681165,0.0,0.14550188970694589,0.0,0.36713157221862386,0.09272938038907765,0.0,0.0,0.1936048254425145,0.14484595682194829,0.19893843540477896,0.10333838976189363,0.0,0.256086817571706,0.2987568389764772,0.20110928571544504,0.47233208453201264,0.0,0.0,0.09821553008367911,0.0651962011567203,0.0038557933357245,0.1351392760367402,0.23919045420622045,0.06610547334966976,0.07345264781324026,0.26896230739174354,0.16892047617393663,0.0,0.09977478666691711,0.15210519455620058,0.16912421880603082,0.12348208532066265,0.12192026393610048,0.13587008109766863,0.12911915442831845,0.0,0.12690690565652002,0.0,0.07045830213441595,0.014000159887335717,0.0,0.012886586676299439,0.15222380272022906,0.2567290397217233,0.2025247572217026,0.03930448944323345,0.0,0.20496842286951053,0.17713917691465245,0.06680667031911104,0.2100797661280112,0.0,0.1107473123201092,0.0,0.07700298185352458,0.19241421509566073,0.29304822198460123,0.00045285040118936415,0.2005803489123362,0.17215593159250683,0.1616515102219211,0.31205488164253853,0.0,0.0,0.0,0.07658630132782564,0.2534302148286722,0.19567183260494275,0.16921321248588192,0.3871602650732861,0.0,0.023020245714453366,0.0,0.0763925168905895,0.11588697897808714,0.16735253222117924,0.14029556125026288,0.1484521181899669,0.13264355204965017,0.0,0.07428194246266451,0.159048690106865,0.06439261104658328,0.04717863272913399,0.09695235719725147,0.0,0.16621494993340089,0.03583349003706285,0.0,0.3462410304566562,0.0,0.0,0.21559719777202851,0.13531367974906772,0.3473982398610073,0.0,0.0,0.4529820233635227,0.02200371491794878,0.0,0.3643293966471481,0.33152002504941724,0.20373178975493045,0.03757692459487719,0.23261795157104334,0.14168417905817476,0.04132318635255555,0.0,0.41083024968712983,0.0,0.11082621922992808,0.1394117921284154,0.031176639899391456,0.0,0.13403523047142463,0.258561144467785,0.009013000442164243,0.050199464095816604,0.0,0.0,0.2779602238335384,0.0,0.0,0.05155047105567506,0.08210696274146238,0.046797756240870736,0.14854673051356101,0.0,0.0,0.21141990650795842,0.23481973531796513,0.0748147672427874,0.10222302150157608,0.14315942241977003,0.09871500249981857,0.1418883739992558,0.0,0.16743792361929216,0.16943658852354107,0.09609360321668486,0.0,0.10002870348471873,0.0841325719570166,0.12240522994007218,0.0,0.08850262765880829,0.0,0.2597387423858821,0.0,0.2026919567860961,0.03427917767424338,0.03754482346483408,0.16762807355747197,0.5242866377949477,0.12070537525818986,0.16890556920170777,0.14520210103981163,0.11725902195097994,0.0,0.0038116978662156575,0.11259684796491432,0.09556770296329649,0.0,0.07611380962776512,0.35623964538805813,0.0,0.005247803387061656,0.1105316869480483,0.0,0.0,0.42435777558499627,0.1787322845893794,0.274242306349728,0.0637334474772013,0.0,0.0,0.10787689298653713,0.30117730517569313,0.0,0.08751763338987056,0.22553450043606615,0.0,0.15900677206904218,0.0,0.06124955789395481,0.0,0.02448513538704772,0.0,0.0,0.0,0.08353998162568718,0.21748075699762426,0.41053973658499465,0.15513780691334292,0.0,0.0,0.39463410409187505,0.1917539119519192,0.1075185967357386,0.01648728339867278,0.4097964869362492,0.0,0.055363981253292116,0.0,0.08381853581645898,0.29020788906815437,0.362477103321605,0.22194776990703874,0.0,0.06869970065688306,0.013412542366876223,0.029302251307329746,0.11319350782332158,0.08484114423895779,0.34897560567792074,0.0,0.0,0.11372351938134379,0.1801190982581505,0.016044857229039977,0.0,0.20320372095675132,0.09833751482045994,0.0,0.12180726366188235,0.0,0.055603811021346095,0.24888820341854873,0.04972251008212952,0.04314372124268484,0.14830845976043155,0.013236236301083892,0.22513629410113625,0.022544860482587414,0.18028397628957554,0.2906972118103483,0.10063825325340968,0.32085683446324476,0.094234617070601,0.3023075334042937,0.0,0.0,0.30887987948779283,0.19826614467357295,0.0858872706417276,0.0,0.0,0.0,0.2470481288962841,0.0,0.21224527778768254,0.1484785939294618,0.08225231964848584,0.0,0.0,0.0975590193561853,0.47631101342955434,0.0,0.0,0.0,0.26254431176271564,0.2595889490619577,0.12396635097512018,0.0,0.0,0.37928933520493685,0.08596620826142169,0.0,0.0,0.1903180143348122,0.0,0.26202396222557,0.061531110063743455,0.19222015390379443,0.07940693889696569,0.0,0.4190292771708446,0.0,0.21591203595383132,0.0,0.26274853821902283,0.07293184111355294,0.0,0.13043082026652808,0.10993535152225954,0.22436475366471859,0.15782617407132066,0.05381081703974311,0.03231359669250339,0.0,0.018971569833323598,0.010191970531051003,0.17727288266927932,0.29383581659559593,0.1862855519110272,0.0,0.09475317517630544,0.1572811632848758,0.0,0.20723414213202349,0.16337051579475143,0.0,0.45917691608983807,0.27556732891047053,0.19777959191519404,0.0,0.12563522993316106,0.3963406947709929,0.2053326054714814,0.0,0.0,0.4192691143717533,0.059746823966423765,0.09647881268997562,0.13554064648866024,0.0,0.0,0.15262525336492003,0.1936280187064642,0.14133022901231407,0.0,0.0,0.14242836630898176,0.24331554205213932,0.43100760729977017,0.1358585701624875,0.2686094495764162,0.0,0.0304395572640051,0.29783622312818836,0.16255060417339473,0.1436985923273265,0.0,0.027354759775954973,0.2101426680499054,0.09901889970936253,0.15114495843004544,0.0,0.2764869918595308,0.15355717208572467,0.001452756039425629,0.028001792197268602,0.0,0.20967861175641475,0.0,0.1045481407185418,0.12785212216327893,0.18915651980338838,0.2386550250318849,0.05162648095427563,0.16332134012390961,0.1743370442839886,0.048132165826206164,0.0,0.3802522918550367,0.2823394809767697,0.1483716212866123,0.06338687208646829,0.4425019359332598,0.0,0.10914345608640297,0.0,0.044417508386892596,0.06298150469886235,0.291796848202881,0.2722170480006103,0.0,0.0,0.052147348685011086,0.0,0.16600540852008486,0.01324365395963531,0.17234404184832972,0.12053233618452576,0.0,0.24976659710343804,0.016138989684772106,0.00675342428563408,0.25332485198890053,0.1972816404919262,0.2656378842061366,0.0226187818358759,0.0,0.5849683629194157,0.22400403682867973,0.2469639817100219,0.23802498235067604,0.017585008586056296,0.18008670679702585,0.25632048627325654,0.20371149639309322,0.10136169401556525,0.07305145265452942,0.0,0.0,0.25956960672027896,0.3614672702901181,0.6907747302005178,0.0981441528865854,0.18084216048368645,0.11623102972670385,0.20410025469307405,0.20729706297203537,0.10067125145024446,0.1324049453714298,0.06001439397315281,0.086818819858491,0.0,0.0,0.008685975691833853,0.12203719116788125,0.03504596478269026,0.10654410350489066,0.029662917409494227,0.10466640765765091,0.0,0.0,0.32664367709481296,0.22661482651370632,0.23269606546435068,0.26259256758266003,0.1845084907158622,0.3408997491294284,0.32563353813776497,0.09338770248251116,0.06517867668755402,0.0018186511713611658,0.257505819492737,0.09177177883471818,0.14625233011338615,0.07583143508593475,0.015193251652924789,0.167132042118976,0.2723426540511046,0.17549780093790399,0.0,0.0,0.11833393402947055,0.1863504640707466,0.16415246402965145,0.0,0.0,0.2234333086108052,0.108832863468353,0.36489233713480596,0.31132040436563313,0.30564546813747356,0.1706081664291417,0.049157394925529924,0.0,0.2973669593048769,0.16407139385506841,0.2286914219654098,0.0,0.04479295204759701,0.15702352181719384,0.11468673843143269,0.09315386896909711,0.0657340141109089,0.0,0.21659292343017233,0.0,0.04927920240070925,0.32838080647727563,0.16311629738451155,0.25178709921646186,0.0,0.13058766848323367,0.12616732368168204,0.0,0.2349124943513475,0.2643103366233748,0.0,0.05955156309764413,0.06340279344185361,0.025418020052651712,0.06243022620913291,0.030352491592312264,0.0,0.11617410235541997,0.0,0.031046130591042997,0.38763670667724137,0.06120597403608988,0.1518041736352888,0.0,0.1818445026259555,0.02677173285113671,0.0,0.0,0.0,0.0,0.14549520825597012,0.0,0.4400721338613491,0.08739363141140252,0.1514640950635447,0.0,0.0,0.1140847116944744,0.2376044978596893,0.029927292897699298,0.16190025713911083,0.16939808497015574,0.35502624791312926,0.0,0.27938297303096216,0.04244378690879716,0.0,0.15869596080972237,0.08751434795641966,0.0,0.11581904230655615,0.2583499412108083,0.4027942948964474,0.1696068805513714,0.2801735713601544,0.1420624871665699,0.24894369337765626,0.20657803940229577,0.0,0.11599326255606517,0.0,0.2502625611523903,0.17481603380434307,0.2296780445442679,0.0,0.25009512061135925,0.24595475779958312,0.3766241524413625,0.18952480325645682,0.32473425333477424,0.1786058909466952,0.18441385097561414,0.12519866045333444,0.16756576184312527,0.19270282549978038,0.40210137667334117,0.3020933991559943,0.03682235030067571,0.0,0.2806189177850568,0.0,0.03271816842486269,0.15802025821635962,0.0656635087483621,0.2860698563941977,0.12153221160225344,0.3453888691017289,0.030726302391581306,0.0,0.43504380643035795,0.48376600003161707,0.0,0.05373336239983284,0.2669090754047106,0.0,0.09522528235116406,0.21990941161862168,0.15907876563568576,0.21487348022510483,0.29878046165406025,0.1543565442114066,0.0,0.11483655526682382,0.16430072718112085,0.14832303253557783,0.0,0.0,0.15023918854763374,0.1482738201117102,0.140741548288615,0.33198161469072046,0.0,0.2715886054565374,0.5095961303276273,0.2505817369444867,0.3093561843308163,0.026833725945142606,0.2286940880350181,0.0,0.5479893717602033,0.12714380054923471,0.14997702651010192,0.28218605983448913,0.013221106592154405,0.0,0.3647985296296843,0.04443375793647933,0.07584848454632064,0.0,0.2490701244617669,0.04875761873018787,0.17737925927203652,0.1505393742899853,0.3740396662561419,0.11359010406961151,0.22671268102179157,0.10106474907744153,0.0,0.0072723944453306,0.0,0.07192482505789728,0.26993296613918516,0.21404679040454602,0.12772353649590365,0.0589648433915973,0.0626109754799428,0.0,0.10633321528869416,0.06494535872876063,0.006891546745504337,0.19310105761298058,0.1733988136106117,0.23666763008190445,0.21742651613776964,0.0,0.0,0.005281759563527,0.15676337829439257,0.3330920263292613,0.0,0.08757243729967672,0.3269196449853803,0.2098081775082697,0.16480481544771897,0.1959309603189931,0.17705033215503657,0.0,0.40072794108216664,0.0,0.20698670998995566,0.1760245520441549,0.3671968298510349,0.21008261893430508,0.10206863077101855,0.0,0.11645880503404696,0.0,0.0,0.4655031025800435,0.056777040588773725,0.2977726837702373,0.01968384664445691,0.12850401430908182,0.0,0.1210968862628783,0.09436628832068339,0.1642928755046697,0.16475560858974678,0.0,0.0,0.00883085761963065,0.055777793187470004,0.3178704802865079,0.2045018832514977,0.0,0.0,0.21648532447273577,0.0,0.02052867581836415,0.11097390883317917,0.43893551917925283,0.0,0.0,0.04002827995189262,0.12210792281296735,0.18074887053999503,0.34676083307049366,0.08884934449105977,0.2617323980804327,0.26117930847178533,0.0,0.31460164446991035,0.2774135419640622,0.0699736498197485,0.0,0.12397128160276563,0.09514429862453233,0.0,0.07624359338746418,0.0,0.09780738395899262,0.18741263667614896,0.0,0.0,0.04186121448046934,0.0,0.1945922911073692,0.20825769478027195,0.23218522720986182,0.0,0.0,0.2167873219177269,0.1736587807284483,0.26512772320884775,0.08966046709293558,0.0,0.11696784702201296,0.1263700117618647,0.0,0.3844661250981469,0.02611062778319928,0.2618894143395685,0.3175521186095677,0.0,0.07537483957155812,0.0,0.0920623052266519,0.0,0.14440509953375807,0.0,0.31684693456296115,0.27946783242202533,0.20713348517066618,0.05781991377461207,0.0782471544480521,0.13609360373803264,0.13522187591636217,0.23195856629614345,0.17659306811698036,0.0,0.4925012892556073,0.0,0.29903830177201457,0.13279114372663411,0.386184953782829,0.23312777307991556,0.17704662526762735,0.3384220695423928,0.25790880281348605,0.029799524118245928,0.07490087351257912,0.19129657399016925,0.0,0.0,0.21762311869633258,0.25164976372611186,0.49455235490227156,0.03157912030001478,0.0,0.292103720895766,0.25627759701450875,0.3971699033805338,0.0,0.17967332293695149,0.16811730993296867,0.04458674588308589,0.0,0.34862778884343104,0.2563417156983133,0.0,0.0,0.4555460372653115,0.0,0.14106531458603697,0.14200288197621094,0.0,0.0,0.0,0.1995996618208324,0.0,0.0,0.0,0.3823937419903149,0.0,0.0,0.22112421501529866,0.13857339708696825,0.24470080761365248,0.1641301175160284,0.24797106851139525,0.11656320957546554,0.2644442085488426,0.16885770887483215],\"type\":\"scatter\"}],                        {\"template\":{\"data\":{\"histogram2dcontour\":[{\"type\":\"histogram2dcontour\",\"colorbar\":{\"outlinewidth\":0,\"ticks\":\"\"},\"colorscale\":[[0.0,\"#0d0887\"],[0.1111111111111111,\"#46039f\"],[0.2222222222222222,\"#7201a8\"],[0.3333333333333333,\"#9c179e\"],[0.4444444444444444,\"#bd3786\"],[0.5555555555555556,\"#d8576b\"],[0.6666666666666666,\"#ed7953\"],[0.7777777777777778,\"#fb9f3a\"],[0.8888888888888888,\"#fdca26\"],[1.0,\"#f0f921\"]]}],\"choropleth\":[{\"type\":\"choropleth\",\"colorbar\":{\"outlinewidth\":0,\"ticks\":\"\"}}],\"histogram2d\":[{\"type\":\"histogram2d\",\"colorbar\":{\"outlinewidth\":0,\"ticks\":\"\"},\"colorscale\":[[0.0,\"#0d0887\"],[0.1111111111111111,\"#46039f\"],[0.2222222222222222,\"#7201a8\"],[0.3333333333333333,\"#9c179e\"],[0.4444444444444444,\"#bd3786\"],[0.5555555555555556,\"#d8576b\"],[0.6666666666666666,\"#ed7953\"],[0.7777777777777778,\"#fb9f3a\"],[0.8888888888888888,\"#fdca26\"],[1.0,\"#f0f921\"]]}],\"heatmap\":[{\"type\":\"heatmap\",\"colorbar\":{\"outlinewidth\":0,\"ticks\":\"\"},\"colorscale\":[[0.0,\"#0d0887\"],[0.1111111111111111,\"#46039f\"],[0.2222222222222222,\"#7201a8\"],[0.3333333333333333,\"#9c179e\"],[0.4444444444444444,\"#bd3786\"],[0.5555555555555556,\"#d8576b\"],[0.6666666666666666,\"#ed7953\"],[0.7777777777777778,\"#fb9f3a\"],[0.8888888888888888,\"#fdca26\"],[1.0,\"#f0f921\"]]}],\"heatmapgl\":[{\"type\":\"heatmapgl\",\"colorbar\":{\"outlinewidth\":0,\"ticks\":\"\"},\"colorscale\":[[0.0,\"#0d0887\"],[0.1111111111111111,\"#46039f\"],[0.2222222222222222,\"#7201a8\"],[0.3333333333333333,\"#9c179e\"],[0.4444444444444444,\"#bd3786\"],[0.5555555555555556,\"#d8576b\"],[0.6666666666666666,\"#ed7953\"],[0.7777777777777778,\"#fb9f3a\"],[0.8888888888888888,\"#fdca26\"],[1.0,\"#f0f921\"]]}],\"contourcarpet\":[{\"type\":\"contourcarpet\",\"colorbar\":{\"outlinewidth\":0,\"ticks\":\"\"}}],\"contour\":[{\"type\":\"contour\",\"colorbar\":{\"outlinewidth\":0,\"ticks\":\"\"},\"colorscale\":[[0.0,\"#0d0887\"],[0.1111111111111111,\"#46039f\"],[0.2222222222222222,\"#7201a8\"],[0.3333333333333333,\"#9c179e\"],[0.4444444444444444,\"#bd3786\"],[0.5555555555555556,\"#d8576b\"],[0.6666666666666666,\"#ed7953\"],[0.7777777777777778,\"#fb9f3a\"],[0.8888888888888888,\"#fdca26\"],[1.0,\"#f0f921\"]]}],\"surface\":[{\"type\":\"surface\",\"colorbar\":{\"outlinewidth\":0,\"ticks\":\"\"},\"colorscale\":[[0.0,\"#0d0887\"],[0.1111111111111111,\"#46039f\"],[0.2222222222222222,\"#7201a8\"],[0.3333333333333333,\"#9c179e\"],[0.4444444444444444,\"#bd3786\"],[0.5555555555555556,\"#d8576b\"],[0.6666666666666666,\"#ed7953\"],[0.7777777777777778,\"#fb9f3a\"],[0.8888888888888888,\"#fdca26\"],[1.0,\"#f0f921\"]]}],\"mesh3d\":[{\"type\":\"mesh3d\",\"colorbar\":{\"outlinewidth\":0,\"ticks\":\"\"}}],\"scatter\":[{\"fillpattern\":{\"fillmode\":\"overlay\",\"size\":10,\"solidity\":0.2},\"type\":\"scatter\"}],\"parcoords\":[{\"type\":\"parcoords\",\"line\":{\"colorbar\":{\"outlinewidth\":0,\"ticks\":\"\"}}}],\"scatterpolargl\":[{\"type\":\"scatterpolargl\",\"marker\":{\"colorbar\":{\"outlinewidth\":0,\"ticks\":\"\"}}}],\"bar\":[{\"error_x\":{\"color\":\"#2a3f5f\"},\"error_y\":{\"color\":\"#2a3f5f\"},\"marker\":{\"line\":{\"color\":\"#E5ECF6\",\"width\":0.5},\"pattern\":{\"fillmode\":\"overlay\",\"size\":10,\"solidity\":0.2}},\"type\":\"bar\"}],\"scattergeo\":[{\"type\":\"scattergeo\",\"marker\":{\"colorbar\":{\"outlinewidth\":0,\"ticks\":\"\"}}}],\"scatterpolar\":[{\"type\":\"scatterpolar\",\"marker\":{\"colorbar\":{\"outlinewidth\":0,\"ticks\":\"\"}}}],\"histogram\":[{\"marker\":{\"pattern\":{\"fillmode\":\"overlay\",\"size\":10,\"solidity\":0.2}},\"type\":\"histogram\"}],\"scattergl\":[{\"type\":\"scattergl\",\"marker\":{\"colorbar\":{\"outlinewidth\":0,\"ticks\":\"\"}}}],\"scatter3d\":[{\"type\":\"scatter3d\",\"line\":{\"colorbar\":{\"outlinewidth\":0,\"ticks\":\"\"}},\"marker\":{\"colorbar\":{\"outlinewidth\":0,\"ticks\":\"\"}}}],\"scattermapbox\":[{\"type\":\"scattermapbox\",\"marker\":{\"colorbar\":{\"outlinewidth\":0,\"ticks\":\"\"}}}],\"scatterternary\":[{\"type\":\"scatterternary\",\"marker\":{\"colorbar\":{\"outlinewidth\":0,\"ticks\":\"\"}}}],\"scattercarpet\":[{\"type\":\"scattercarpet\",\"marker\":{\"colorbar\":{\"outlinewidth\":0,\"ticks\":\"\"}}}],\"carpet\":[{\"aaxis\":{\"endlinecolor\":\"#2a3f5f\",\"gridcolor\":\"white\",\"linecolor\":\"white\",\"minorgridcolor\":\"white\",\"startlinecolor\":\"#2a3f5f\"},\"baxis\":{\"endlinecolor\":\"#2a3f5f\",\"gridcolor\":\"white\",\"linecolor\":\"white\",\"minorgridcolor\":\"white\",\"startlinecolor\":\"#2a3f5f\"},\"type\":\"carpet\"}],\"table\":[{\"cells\":{\"fill\":{\"color\":\"#EBF0F8\"},\"line\":{\"color\":\"white\"}},\"header\":{\"fill\":{\"color\":\"#C8D4E3\"},\"line\":{\"color\":\"white\"}},\"type\":\"table\"}],\"barpolar\":[{\"marker\":{\"line\":{\"color\":\"#E5ECF6\",\"width\":0.5},\"pattern\":{\"fillmode\":\"overlay\",\"size\":10,\"solidity\":0.2}},\"type\":\"barpolar\"}],\"pie\":[{\"automargin\":true,\"type\":\"pie\"}]},\"layout\":{\"autotypenumbers\":\"strict\",\"colorway\":[\"#636efa\",\"#EF553B\",\"#00cc96\",\"#ab63fa\",\"#FFA15A\",\"#19d3f3\",\"#FF6692\",\"#B6E880\",\"#FF97FF\",\"#FECB52\"],\"font\":{\"color\":\"#2a3f5f\"},\"hovermode\":\"closest\",\"hoverlabel\":{\"align\":\"left\"},\"paper_bgcolor\":\"white\",\"plot_bgcolor\":\"#E5ECF6\",\"polar\":{\"bgcolor\":\"#E5ECF6\",\"angularaxis\":{\"gridcolor\":\"white\",\"linecolor\":\"white\",\"ticks\":\"\"},\"radialaxis\":{\"gridcolor\":\"white\",\"linecolor\":\"white\",\"ticks\":\"\"}},\"ternary\":{\"bgcolor\":\"#E5ECF6\",\"aaxis\":{\"gridcolor\":\"white\",\"linecolor\":\"white\",\"ticks\":\"\"},\"baxis\":{\"gridcolor\":\"white\",\"linecolor\":\"white\",\"ticks\":\"\"},\"caxis\":{\"gridcolor\":\"white\",\"linecolor\":\"white\",\"ticks\":\"\"}},\"coloraxis\":{\"colorbar\":{\"outlinewidth\":0,\"ticks\":\"\"}},\"colorscale\":{\"sequential\":[[0.0,\"#0d0887\"],[0.1111111111111111,\"#46039f\"],[0.2222222222222222,\"#7201a8\"],[0.3333333333333333,\"#9c179e\"],[0.4444444444444444,\"#bd3786\"],[0.5555555555555556,\"#d8576b\"],[0.6666666666666666,\"#ed7953\"],[0.7777777777777778,\"#fb9f3a\"],[0.8888888888888888,\"#fdca26\"],[1.0,\"#f0f921\"]],\"sequentialminus\":[[0.0,\"#0d0887\"],[0.1111111111111111,\"#46039f\"],[0.2222222222222222,\"#7201a8\"],[0.3333333333333333,\"#9c179e\"],[0.4444444444444444,\"#bd3786\"],[0.5555555555555556,\"#d8576b\"],[0.6666666666666666,\"#ed7953\"],[0.7777777777777778,\"#fb9f3a\"],[0.8888888888888888,\"#fdca26\"],[1.0,\"#f0f921\"]],\"diverging\":[[0,\"#8e0152\"],[0.1,\"#c51b7d\"],[0.2,\"#de77ae\"],[0.3,\"#f1b6da\"],[0.4,\"#fde0ef\"],[0.5,\"#f7f7f7\"],[0.6,\"#e6f5d0\"],[0.7,\"#b8e186\"],[0.8,\"#7fbc41\"],[0.9,\"#4d9221\"],[1,\"#276419\"]]},\"xaxis\":{\"gridcolor\":\"white\",\"linecolor\":\"white\",\"ticks\":\"\",\"title\":{\"standoff\":15},\"zerolinecolor\":\"white\",\"automargin\":true,\"zerolinewidth\":2},\"yaxis\":{\"gridcolor\":\"white\",\"linecolor\":\"white\",\"ticks\":\"\",\"title\":{\"standoff\":15},\"zerolinecolor\":\"white\",\"automargin\":true,\"zerolinewidth\":2},\"scene\":{\"xaxis\":{\"backgroundcolor\":\"#E5ECF6\",\"gridcolor\":\"white\",\"linecolor\":\"white\",\"showbackground\":true,\"ticks\":\"\",\"zerolinecolor\":\"white\",\"gridwidth\":2},\"yaxis\":{\"backgroundcolor\":\"#E5ECF6\",\"gridcolor\":\"white\",\"linecolor\":\"white\",\"showbackground\":true,\"ticks\":\"\",\"zerolinecolor\":\"white\",\"gridwidth\":2},\"zaxis\":{\"backgroundcolor\":\"#E5ECF6\",\"gridcolor\":\"white\",\"linecolor\":\"white\",\"showbackground\":true,\"ticks\":\"\",\"zerolinecolor\":\"white\",\"gridwidth\":2}},\"shapedefaults\":{\"line\":{\"color\":\"#2a3f5f\"}},\"annotationdefaults\":{\"arrowcolor\":\"#2a3f5f\",\"arrowhead\":0,\"arrowwidth\":1},\"geo\":{\"bgcolor\":\"white\",\"landcolor\":\"#E5ECF6\",\"subunitcolor\":\"white\",\"showland\":true,\"showlakes\":true,\"lakecolor\":\"white\"},\"title\":{\"x\":0.05},\"mapbox\":{\"style\":\"light\"}}}},                        {\"responsive\": true}                    ).then(function(){\n",
              "                            \n",
              "var gd = document.getElementById('f5a5d0c6-87d5-40d8-aed2-735fe7dd2fa7');\n",
              "var x = new MutationObserver(function (mutations, observer) {{\n",
              "        var display = window.getComputedStyle(gd).display;\n",
              "        if (!display || display === 'none') {{\n",
              "            console.log([gd, 'removed!']);\n",
              "            Plotly.purge(gd);\n",
              "            observer.disconnect();\n",
              "        }}\n",
              "}});\n",
              "\n",
              "// Listen for the removal of the full notebook cells\n",
              "var notebookContainer = gd.closest('#notebook-container');\n",
              "if (notebookContainer) {{\n",
              "    x.observe(notebookContainer, {childList: true});\n",
              "}}\n",
              "\n",
              "// Listen for the clearing of the current output cell\n",
              "var outputEl = gd.closest('.output');\n",
              "if (outputEl) {{\n",
              "    x.observe(outputEl, {childList: true});\n",
              "}}\n",
              "\n",
              "                        })                };                            </script>        </div>\n",
              "</body>\n",
              "</html>"
            ]
          },
          "metadata": {}
        },
        {
          "output_type": "stream",
          "name": "stdout",
          "text": [
            "         p_s    p_hats   upper_p  visits  clicks\n",
            "20  0.308599  0.000000  0.948683      10       0\n",
            "29  0.134199  0.090909  0.995443      11       1\n",
            "46  0.131218  0.000000  0.948683      10       0\n",
            "62  0.077581  0.000000  0.948683      10       0\n",
            "7   0.058233  0.000000  0.948683      10       0\n"
          ]
        }
      ]
    },
    {
      "cell_type": "code",
      "source": [
        "import numpy as np\n",
        "import pandas as pd\n",
        "import plotly.graph_objects as go\n",
        "from scipy.stats import beta\n",
        "\n",
        "# Parameters\n",
        "a_0 = 0.1\n",
        "b_0 = 9.9\n",
        "k = 100\n",
        "horizon = int(1e3)\n",
        "lambda_1 = 0e4\n",
        "lambda_2 = 1e5\n",
        "ratio_12 = lambda_1 / (lambda_1 + lambda_2)\n",
        "\n",
        "np.random.seed(42)\n",
        "p_s = np.random.beta(a_0, b_0, k)\n",
        "q_s = np.random.beta(a_0, b_0, k)\n",
        "mu = 1\n",
        "sigma = 1\n",
        "max_s = 100 + np.zeros(k)\n",
        "c_s = np.minimum(np.round(np.exp(np.random.normal(mu, sigma, k)), 1), max_s)\n",
        "d_s = np.minimum(np.round(np.exp(np.random.normal(mu, sigma, k)), 1), max_s)\n",
        "c_s0 = c_s.copy()\n",
        "d_s0 = d_s.copy()\n",
        "dq = pd.DataFrame({'merchant': np.arange(1, k+1), 'd_s0': d_s0, 'q_s': q_s, 'max_s': max_s})\n",
        "\n",
        "visits = pd.DataFrame({\n",
        "    'site': np.zeros(horizon, dtype=int),\n",
        "    'merchant': np.zeros(horizon, dtype=int),\n",
        "    'estimated_p': np.zeros(horizon),\n",
        "    'cost': np.zeros(horizon),\n",
        "    'is_clicked': np.zeros(horizon, dtype=bool),\n",
        "    'revenue': np.zeros(horizon)\n",
        "})\n",
        "\n",
        "impressions_1 = np.zeros(k, dtype=int)\n",
        "clicks_1 = np.zeros(k, dtype=int)\n",
        "impressions_2 = np.zeros(k, dtype=int)\n",
        "clicks_2 = np.zeros(k, dtype=int)\n",
        "p_hat = np.zeros(k)\n",
        "q_hat = np.zeros(k)\n",
        "\n",
        "for i in range(horizon):\n",
        "    if i % 100 == 0:\n",
        "        p_hat = np.random.beta(a_0 + clicks_1, b_0 + impressions_1 - clicks_1)\n",
        "        q_hat = np.random.beta(a_0 + clicks_2, b_0 + impressions_2 - clicks_2)\n",
        "\n",
        "    if i % 1000 == 0:\n",
        "        print(i)\n",
        "\n",
        "    next_site = 1 if np.random.rand() < ratio_12 else 2\n",
        "\n",
        "    if next_site == 1:\n",
        "        ad = np.argmax(c_s * p_hat)\n",
        "        impressions_1[ad] += 1\n",
        "        click = np.random.rand() < p_s[ad]\n",
        "        clicks_1[ad] += click\n",
        "        visits.iloc[i] = [next_site, ad, p_hat[ad], c_s[ad], click, c_s[ad] if click else 0]\n",
        "        if click:\n",
        "            max_s[ad] -= c_s[ad]\n",
        "            c_s[ad] = min(c_s[ad], max_s[ad])\n",
        "            d_s[ad] = min(d_s[ad], max_s[ad])\n",
        "        p_hat[ad] = np.random.beta(a_0 + clicks_1[ad], b_0 + impressions_1[ad] - clicks_1[ad])\n",
        "    else:\n",
        "        ad = np.argmax(d_s * q_hat)\n",
        "        impressions_2[ad] += 1\n",
        "        click = np.random.rand() < q_s[ad]\n",
        "        clicks_2[ad] += click\n",
        "        visits.iloc[i] = [next_site, ad, q_hat[ad], d_s[ad], click, d_s[ad] if click else 0]\n",
        "        if click:\n",
        "            max_s[ad] -= d_s[ad]\n",
        "            c_s[ad] = min(c_s[ad], max_s[ad])\n",
        "            d_s[ad] = min(d_s[ad], max_s[ad])\n",
        "        q_hat[ad] = np.random.beta(a_0 + clicks_2[ad], b_0 + impressions_2[ad] - clicks_2[ad])\n",
        "\n",
        "# Summary statistics\n",
        "print(visits['site'].value_counts())\n",
        "print(visits['is_clicked'].value_counts())\n",
        "print(visits['revenue'].sum())\n",
        "print(np.sort(max_s)[::-1])\n",
        "print(visits[visits['site'] == 2]['merchant'].value_counts().sort_values())\n",
        "print(visits[(visits['site'] == 2) & (visits['is_clicked'])]['merchant'].value_counts().sort_values())\n",
        "\n",
        "# Merge and plot\n",
        "to_compare = visits[visits['site'] == 2].merge(dq, on='merchant')\n",
        "l = 71\n",
        "print(max_s[l])\n",
        "print(q_s[l])\n",
        "plot_data = to_compare[to_compare['merchant'] == l]\n",
        "fig = go.Figure()\n",
        "fig.add_trace(go.Scatter(x=np.arange(len(plot_data)), y=plot_data['estimated_p'] - plot_data['q_s'], mode='lines'))\n",
        "fig.show()\n",
        "\n",
        "# Theoretical best\n",
        "dq['dq'] = dq['d_s0'] * dq['q_s']\n",
        "dq = dq.sort_values(by='dq', ascending=False)\n",
        "dq['expected_time'] = (dq['max_s'] / dq['d_s0']) / dq['q_s']\n",
        "\n",
        "fig = go.Figure()\n",
        "fig.add_trace(go.Scatter(x=np.arange(len(visits)), y=visits['revenue'].cumsum(), mode='lines'))\n",
        "cumsum_expected_time = dq[dq['expected_time'].cumsum() < horizon]\n",
        "fig.add_trace(go.Scatter(x=cumsum_expected_time['expected_time'].cumsum(), y=cumsum_expected_time['max_s'].cumsum(), mode='lines'))\n",
        "fig.show()\n"
      ],
      "metadata": {
        "id": "sj-xkd7ZvuOu",
        "outputId": "8a7ac17d-1aca-4e0b-ef61-325295a3587e",
        "colab": {
          "base_uri": "https://localhost:8080/",
          "height": 1000
        }
      },
      "execution_count": null,
      "outputs": [
        {
          "output_type": "stream",
          "name": "stdout",
          "text": [
            "0\n",
            "site\n",
            "2    1000\n",
            "Name: count, dtype: int64\n",
            "is_clicked\n",
            "False    900\n",
            "True     100\n",
            "Name: count, dtype: int64\n",
            "308.90000000000015\n",
            "[100.  100.  100.  100.  100.  100.  100.  100.  100.  100.  100.  100.\n",
            " 100.  100.  100.  100.  100.  100.  100.  100.  100.  100.  100.  100.\n",
            " 100.  100.  100.  100.  100.  100.  100.  100.  100.  100.  100.  100.\n",
            " 100.  100.  100.  100.  100.  100.  100.  100.  100.  100.  100.  100.\n",
            " 100.  100.  100.  100.  100.  100.  100.  100.  100.  100.  100.  100.\n",
            " 100.  100.  100.  100.  100.  100.  100.  100.  100.  100.  100.  100.\n",
            " 100.  100.  100.  100.  100.  100.  100.  100.  100.  100.  100.  100.\n",
            " 100.  100.  100.  100.  100.  100.  100.  100.  100.  100.  100.  100.\n",
            "  91.1   0.    0.    0. ]\n",
            "merchant\n",
            "31      1\n",
            "10      1\n",
            "64      1\n",
            "65      1\n",
            "37      1\n",
            "     ... \n",
            "81      8\n",
            "87     35\n",
            "6      83\n",
            "20    261\n",
            "35    391\n",
            "Name: count, Length: 83, dtype: int64\n",
            "merchant\n",
            "87     1\n",
            "20    16\n",
            "6     20\n",
            "35    63\n",
            "Name: count, dtype: int64\n",
            "100.0\n",
            "0.015156762856848967\n"
          ]
        },
        {
          "output_type": "display_data",
          "data": {
            "text/html": [
              "<html>\n",
              "<head><meta charset=\"utf-8\" /></head>\n",
              "<body>\n",
              "    <div>            <script src=\"https://cdnjs.cloudflare.com/ajax/libs/mathjax/2.7.5/MathJax.js?config=TeX-AMS-MML_SVG\"></script><script type=\"text/javascript\">if (window.MathJax && window.MathJax.Hub && window.MathJax.Hub.Config) {window.MathJax.Hub.Config({SVG: {font: \"STIX-Web\"}});}</script>                <script type=\"text/javascript\">window.PlotlyConfig = {MathJaxConfig: 'local'};</script>\n",
              "        <script charset=\"utf-8\" src=\"https://cdn.plot.ly/plotly-2.24.1.min.js\"></script>                <div id=\"d74a242e-1595-404a-842f-129a6fa7f1b2\" class=\"plotly-graph-div\" style=\"height:525px; width:100%;\"></div>            <script type=\"text/javascript\">                                    window.PLOTLYENV=window.PLOTLYENV || {};                                    if (document.getElementById(\"d74a242e-1595-404a-842f-129a6fa7f1b2\")) {                    Plotly.newPlot(                        \"d74a242e-1595-404a-842f-129a6fa7f1b2\",                        [{\"mode\":\"lines\",\"x\":[],\"y\":[],\"type\":\"scatter\"}],                        {\"template\":{\"data\":{\"histogram2dcontour\":[{\"type\":\"histogram2dcontour\",\"colorbar\":{\"outlinewidth\":0,\"ticks\":\"\"},\"colorscale\":[[0.0,\"#0d0887\"],[0.1111111111111111,\"#46039f\"],[0.2222222222222222,\"#7201a8\"],[0.3333333333333333,\"#9c179e\"],[0.4444444444444444,\"#bd3786\"],[0.5555555555555556,\"#d8576b\"],[0.6666666666666666,\"#ed7953\"],[0.7777777777777778,\"#fb9f3a\"],[0.8888888888888888,\"#fdca26\"],[1.0,\"#f0f921\"]]}],\"choropleth\":[{\"type\":\"choropleth\",\"colorbar\":{\"outlinewidth\":0,\"ticks\":\"\"}}],\"histogram2d\":[{\"type\":\"histogram2d\",\"colorbar\":{\"outlinewidth\":0,\"ticks\":\"\"},\"colorscale\":[[0.0,\"#0d0887\"],[0.1111111111111111,\"#46039f\"],[0.2222222222222222,\"#7201a8\"],[0.3333333333333333,\"#9c179e\"],[0.4444444444444444,\"#bd3786\"],[0.5555555555555556,\"#d8576b\"],[0.6666666666666666,\"#ed7953\"],[0.7777777777777778,\"#fb9f3a\"],[0.8888888888888888,\"#fdca26\"],[1.0,\"#f0f921\"]]}],\"heatmap\":[{\"type\":\"heatmap\",\"colorbar\":{\"outlinewidth\":0,\"ticks\":\"\"},\"colorscale\":[[0.0,\"#0d0887\"],[0.1111111111111111,\"#46039f\"],[0.2222222222222222,\"#7201a8\"],[0.3333333333333333,\"#9c179e\"],[0.4444444444444444,\"#bd3786\"],[0.5555555555555556,\"#d8576b\"],[0.6666666666666666,\"#ed7953\"],[0.7777777777777778,\"#fb9f3a\"],[0.8888888888888888,\"#fdca26\"],[1.0,\"#f0f921\"]]}],\"heatmapgl\":[{\"type\":\"heatmapgl\",\"colorbar\":{\"outlinewidth\":0,\"ticks\":\"\"},\"colorscale\":[[0.0,\"#0d0887\"],[0.1111111111111111,\"#46039f\"],[0.2222222222222222,\"#7201a8\"],[0.3333333333333333,\"#9c179e\"],[0.4444444444444444,\"#bd3786\"],[0.5555555555555556,\"#d8576b\"],[0.6666666666666666,\"#ed7953\"],[0.7777777777777778,\"#fb9f3a\"],[0.8888888888888888,\"#fdca26\"],[1.0,\"#f0f921\"]]}],\"contourcarpet\":[{\"type\":\"contourcarpet\",\"colorbar\":{\"outlinewidth\":0,\"ticks\":\"\"}}],\"contour\":[{\"type\":\"contour\",\"colorbar\":{\"outlinewidth\":0,\"ticks\":\"\"},\"colorscale\":[[0.0,\"#0d0887\"],[0.1111111111111111,\"#46039f\"],[0.2222222222222222,\"#7201a8\"],[0.3333333333333333,\"#9c179e\"],[0.4444444444444444,\"#bd3786\"],[0.5555555555555556,\"#d8576b\"],[0.6666666666666666,\"#ed7953\"],[0.7777777777777778,\"#fb9f3a\"],[0.8888888888888888,\"#fdca26\"],[1.0,\"#f0f921\"]]}],\"surface\":[{\"type\":\"surface\",\"colorbar\":{\"outlinewidth\":0,\"ticks\":\"\"},\"colorscale\":[[0.0,\"#0d0887\"],[0.1111111111111111,\"#46039f\"],[0.2222222222222222,\"#7201a8\"],[0.3333333333333333,\"#9c179e\"],[0.4444444444444444,\"#bd3786\"],[0.5555555555555556,\"#d8576b\"],[0.6666666666666666,\"#ed7953\"],[0.7777777777777778,\"#fb9f3a\"],[0.8888888888888888,\"#fdca26\"],[1.0,\"#f0f921\"]]}],\"mesh3d\":[{\"type\":\"mesh3d\",\"colorbar\":{\"outlinewidth\":0,\"ticks\":\"\"}}],\"scatter\":[{\"fillpattern\":{\"fillmode\":\"overlay\",\"size\":10,\"solidity\":0.2},\"type\":\"scatter\"}],\"parcoords\":[{\"type\":\"parcoords\",\"line\":{\"colorbar\":{\"outlinewidth\":0,\"ticks\":\"\"}}}],\"scatterpolargl\":[{\"type\":\"scatterpolargl\",\"marker\":{\"colorbar\":{\"outlinewidth\":0,\"ticks\":\"\"}}}],\"bar\":[{\"error_x\":{\"color\":\"#2a3f5f\"},\"error_y\":{\"color\":\"#2a3f5f\"},\"marker\":{\"line\":{\"color\":\"#E5ECF6\",\"width\":0.5},\"pattern\":{\"fillmode\":\"overlay\",\"size\":10,\"solidity\":0.2}},\"type\":\"bar\"}],\"scattergeo\":[{\"type\":\"scattergeo\",\"marker\":{\"colorbar\":{\"outlinewidth\":0,\"ticks\":\"\"}}}],\"scatterpolar\":[{\"type\":\"scatterpolar\",\"marker\":{\"colorbar\":{\"outlinewidth\":0,\"ticks\":\"\"}}}],\"histogram\":[{\"marker\":{\"pattern\":{\"fillmode\":\"overlay\",\"size\":10,\"solidity\":0.2}},\"type\":\"histogram\"}],\"scattergl\":[{\"type\":\"scattergl\",\"marker\":{\"colorbar\":{\"outlinewidth\":0,\"ticks\":\"\"}}}],\"scatter3d\":[{\"type\":\"scatter3d\",\"line\":{\"colorbar\":{\"outlinewidth\":0,\"ticks\":\"\"}},\"marker\":{\"colorbar\":{\"outlinewidth\":0,\"ticks\":\"\"}}}],\"scattermapbox\":[{\"type\":\"scattermapbox\",\"marker\":{\"colorbar\":{\"outlinewidth\":0,\"ticks\":\"\"}}}],\"scatterternary\":[{\"type\":\"scatterternary\",\"marker\":{\"colorbar\":{\"outlinewidth\":0,\"ticks\":\"\"}}}],\"scattercarpet\":[{\"type\":\"scattercarpet\",\"marker\":{\"colorbar\":{\"outlinewidth\":0,\"ticks\":\"\"}}}],\"carpet\":[{\"aaxis\":{\"endlinecolor\":\"#2a3f5f\",\"gridcolor\":\"white\",\"linecolor\":\"white\",\"minorgridcolor\":\"white\",\"startlinecolor\":\"#2a3f5f\"},\"baxis\":{\"endlinecolor\":\"#2a3f5f\",\"gridcolor\":\"white\",\"linecolor\":\"white\",\"minorgridcolor\":\"white\",\"startlinecolor\":\"#2a3f5f\"},\"type\":\"carpet\"}],\"table\":[{\"cells\":{\"fill\":{\"color\":\"#EBF0F8\"},\"line\":{\"color\":\"white\"}},\"header\":{\"fill\":{\"color\":\"#C8D4E3\"},\"line\":{\"color\":\"white\"}},\"type\":\"table\"}],\"barpolar\":[{\"marker\":{\"line\":{\"color\":\"#E5ECF6\",\"width\":0.5},\"pattern\":{\"fillmode\":\"overlay\",\"size\":10,\"solidity\":0.2}},\"type\":\"barpolar\"}],\"pie\":[{\"automargin\":true,\"type\":\"pie\"}]},\"layout\":{\"autotypenumbers\":\"strict\",\"colorway\":[\"#636efa\",\"#EF553B\",\"#00cc96\",\"#ab63fa\",\"#FFA15A\",\"#19d3f3\",\"#FF6692\",\"#B6E880\",\"#FF97FF\",\"#FECB52\"],\"font\":{\"color\":\"#2a3f5f\"},\"hovermode\":\"closest\",\"hoverlabel\":{\"align\":\"left\"},\"paper_bgcolor\":\"white\",\"plot_bgcolor\":\"#E5ECF6\",\"polar\":{\"bgcolor\":\"#E5ECF6\",\"angularaxis\":{\"gridcolor\":\"white\",\"linecolor\":\"white\",\"ticks\":\"\"},\"radialaxis\":{\"gridcolor\":\"white\",\"linecolor\":\"white\",\"ticks\":\"\"}},\"ternary\":{\"bgcolor\":\"#E5ECF6\",\"aaxis\":{\"gridcolor\":\"white\",\"linecolor\":\"white\",\"ticks\":\"\"},\"baxis\":{\"gridcolor\":\"white\",\"linecolor\":\"white\",\"ticks\":\"\"},\"caxis\":{\"gridcolor\":\"white\",\"linecolor\":\"white\",\"ticks\":\"\"}},\"coloraxis\":{\"colorbar\":{\"outlinewidth\":0,\"ticks\":\"\"}},\"colorscale\":{\"sequential\":[[0.0,\"#0d0887\"],[0.1111111111111111,\"#46039f\"],[0.2222222222222222,\"#7201a8\"],[0.3333333333333333,\"#9c179e\"],[0.4444444444444444,\"#bd3786\"],[0.5555555555555556,\"#d8576b\"],[0.6666666666666666,\"#ed7953\"],[0.7777777777777778,\"#fb9f3a\"],[0.8888888888888888,\"#fdca26\"],[1.0,\"#f0f921\"]],\"sequentialminus\":[[0.0,\"#0d0887\"],[0.1111111111111111,\"#46039f\"],[0.2222222222222222,\"#7201a8\"],[0.3333333333333333,\"#9c179e\"],[0.4444444444444444,\"#bd3786\"],[0.5555555555555556,\"#d8576b\"],[0.6666666666666666,\"#ed7953\"],[0.7777777777777778,\"#fb9f3a\"],[0.8888888888888888,\"#fdca26\"],[1.0,\"#f0f921\"]],\"diverging\":[[0,\"#8e0152\"],[0.1,\"#c51b7d\"],[0.2,\"#de77ae\"],[0.3,\"#f1b6da\"],[0.4,\"#fde0ef\"],[0.5,\"#f7f7f7\"],[0.6,\"#e6f5d0\"],[0.7,\"#b8e186\"],[0.8,\"#7fbc41\"],[0.9,\"#4d9221\"],[1,\"#276419\"]]},\"xaxis\":{\"gridcolor\":\"white\",\"linecolor\":\"white\",\"ticks\":\"\",\"title\":{\"standoff\":15},\"zerolinecolor\":\"white\",\"automargin\":true,\"zerolinewidth\":2},\"yaxis\":{\"gridcolor\":\"white\",\"linecolor\":\"white\",\"ticks\":\"\",\"title\":{\"standoff\":15},\"zerolinecolor\":\"white\",\"automargin\":true,\"zerolinewidth\":2},\"scene\":{\"xaxis\":{\"backgroundcolor\":\"#E5ECF6\",\"gridcolor\":\"white\",\"linecolor\":\"white\",\"showbackground\":true,\"ticks\":\"\",\"zerolinecolor\":\"white\",\"gridwidth\":2},\"yaxis\":{\"backgroundcolor\":\"#E5ECF6\",\"gridcolor\":\"white\",\"linecolor\":\"white\",\"showbackground\":true,\"ticks\":\"\",\"zerolinecolor\":\"white\",\"gridwidth\":2},\"zaxis\":{\"backgroundcolor\":\"#E5ECF6\",\"gridcolor\":\"white\",\"linecolor\":\"white\",\"showbackground\":true,\"ticks\":\"\",\"zerolinecolor\":\"white\",\"gridwidth\":2}},\"shapedefaults\":{\"line\":{\"color\":\"#2a3f5f\"}},\"annotationdefaults\":{\"arrowcolor\":\"#2a3f5f\",\"arrowhead\":0,\"arrowwidth\":1},\"geo\":{\"bgcolor\":\"white\",\"landcolor\":\"#E5ECF6\",\"subunitcolor\":\"white\",\"showland\":true,\"showlakes\":true,\"lakecolor\":\"white\"},\"title\":{\"x\":0.05},\"mapbox\":{\"style\":\"light\"}}}},                        {\"responsive\": true}                    ).then(function(){\n",
              "                            \n",
              "var gd = document.getElementById('d74a242e-1595-404a-842f-129a6fa7f1b2');\n",
              "var x = new MutationObserver(function (mutations, observer) {{\n",
              "        var display = window.getComputedStyle(gd).display;\n",
              "        if (!display || display === 'none') {{\n",
              "            console.log([gd, 'removed!']);\n",
              "            Plotly.purge(gd);\n",
              "            observer.disconnect();\n",
              "        }}\n",
              "}});\n",
              "\n",
              "// Listen for the removal of the full notebook cells\n",
              "var notebookContainer = gd.closest('#notebook-container');\n",
              "if (notebookContainer) {{\n",
              "    x.observe(notebookContainer, {childList: true});\n",
              "}}\n",
              "\n",
              "// Listen for the clearing of the current output cell\n",
              "var outputEl = gd.closest('.output');\n",
              "if (outputEl) {{\n",
              "    x.observe(outputEl, {childList: true});\n",
              "}}\n",
              "\n",
              "                        })                };                            </script>        </div>\n",
              "</body>\n",
              "</html>"
            ]
          },
          "metadata": {}
        },
        {
          "output_type": "display_data",
          "data": {
            "text/html": [
              "<html>\n",
              "<head><meta charset=\"utf-8\" /></head>\n",
              "<body>\n",
              "    <div>            <script src=\"https://cdnjs.cloudflare.com/ajax/libs/mathjax/2.7.5/MathJax.js?config=TeX-AMS-MML_SVG\"></script><script type=\"text/javascript\">if (window.MathJax && window.MathJax.Hub && window.MathJax.Hub.Config) {window.MathJax.Hub.Config({SVG: {font: \"STIX-Web\"}});}</script>                <script type=\"text/javascript\">window.PlotlyConfig = {MathJaxConfig: 'local'};</script>\n",
              "        <script charset=\"utf-8\" src=\"https://cdn.plot.ly/plotly-2.24.1.min.js\"></script>                <div id=\"cf89d222-e033-447c-a93d-96e65ab0c349\" class=\"plotly-graph-div\" style=\"height:525px; width:100%;\"></div>            <script type=\"text/javascript\">                                    window.PLOTLYENV=window.PLOTLYENV || {};                                    if (document.getElementById(\"cf89d222-e033-447c-a93d-96e65ab0c349\")) {                    Plotly.newPlot(                        \"cf89d222-e033-447c-a93d-96e65ab0c349\",                        [{\"mode\":\"lines\",\"x\":[0,1,2,3,4,5,6,7,8,9,10,11,12,13,14,15,16,17,18,19,20,21,22,23,24,25,26,27,28,29,30,31,32,33,34,35,36,37,38,39,40,41,42,43,44,45,46,47,48,49,50,51,52,53,54,55,56,57,58,59,60,61,62,63,64,65,66,67,68,69,70,71,72,73,74,75,76,77,78,79,80,81,82,83,84,85,86,87,88,89,90,91,92,93,94,95,96,97,98,99,100,101,102,103,104,105,106,107,108,109,110,111,112,113,114,115,116,117,118,119,120,121,122,123,124,125,126,127,128,129,130,131,132,133,134,135,136,137,138,139,140,141,142,143,144,145,146,147,148,149,150,151,152,153,154,155,156,157,158,159,160,161,162,163,164,165,166,167,168,169,170,171,172,173,174,175,176,177,178,179,180,181,182,183,184,185,186,187,188,189,190,191,192,193,194,195,196,197,198,199,200,201,202,203,204,205,206,207,208,209,210,211,212,213,214,215,216,217,218,219,220,221,222,223,224,225,226,227,228,229,230,231,232,233,234,235,236,237,238,239,240,241,242,243,244,245,246,247,248,249,250,251,252,253,254,255,256,257,258,259,260,261,262,263,264,265,266,267,268,269,270,271,272,273,274,275,276,277,278,279,280,281,282,283,284,285,286,287,288,289,290,291,292,293,294,295,296,297,298,299,300,301,302,303,304,305,306,307,308,309,310,311,312,313,314,315,316,317,318,319,320,321,322,323,324,325,326,327,328,329,330,331,332,333,334,335,336,337,338,339,340,341,342,343,344,345,346,347,348,349,350,351,352,353,354,355,356,357,358,359,360,361,362,363,364,365,366,367,368,369,370,371,372,373,374,375,376,377,378,379,380,381,382,383,384,385,386,387,388,389,390,391,392,393,394,395,396,397,398,399,400,401,402,403,404,405,406,407,408,409,410,411,412,413,414,415,416,417,418,419,420,421,422,423,424,425,426,427,428,429,430,431,432,433,434,435,436,437,438,439,440,441,442,443,444,445,446,447,448,449,450,451,452,453,454,455,456,457,458,459,460,461,462,463,464,465,466,467,468,469,470,471,472,473,474,475,476,477,478,479,480,481,482,483,484,485,486,487,488,489,490,491,492,493,494,495,496,497,498,499,500,501,502,503,504,505,506,507,508,509,510,511,512,513,514,515,516,517,518,519,520,521,522,523,524,525,526,527,528,529,530,531,532,533,534,535,536,537,538,539,540,541,542,543,544,545,546,547,548,549,550,551,552,553,554,555,556,557,558,559,560,561,562,563,564,565,566,567,568,569,570,571,572,573,574,575,576,577,578,579,580,581,582,583,584,585,586,587,588,589,590,591,592,593,594,595,596,597,598,599,600,601,602,603,604,605,606,607,608,609,610,611,612,613,614,615,616,617,618,619,620,621,622,623,624,625,626,627,628,629,630,631,632,633,634,635,636,637,638,639,640,641,642,643,644,645,646,647,648,649,650,651,652,653,654,655,656,657,658,659,660,661,662,663,664,665,666,667,668,669,670,671,672,673,674,675,676,677,678,679,680,681,682,683,684,685,686,687,688,689,690,691,692,693,694,695,696,697,698,699,700,701,702,703,704,705,706,707,708,709,710,711,712,713,714,715,716,717,718,719,720,721,722,723,724,725,726,727,728,729,730,731,732,733,734,735,736,737,738,739,740,741,742,743,744,745,746,747,748,749,750,751,752,753,754,755,756,757,758,759,760,761,762,763,764,765,766,767,768,769,770,771,772,773,774,775,776,777,778,779,780,781,782,783,784,785,786,787,788,789,790,791,792,793,794,795,796,797,798,799,800,801,802,803,804,805,806,807,808,809,810,811,812,813,814,815,816,817,818,819,820,821,822,823,824,825,826,827,828,829,830,831,832,833,834,835,836,837,838,839,840,841,842,843,844,845,846,847,848,849,850,851,852,853,854,855,856,857,858,859,860,861,862,863,864,865,866,867,868,869,870,871,872,873,874,875,876,877,878,879,880,881,882,883,884,885,886,887,888,889,890,891,892,893,894,895,896,897,898,899,900,901,902,903,904,905,906,907,908,909,910,911,912,913,914,915,916,917,918,919,920,921,922,923,924,925,926,927,928,929,930,931,932,933,934,935,936,937,938,939,940,941,942,943,944,945,946,947,948,949,950,951,952,953,954,955,956,957,958,959,960,961,962,963,964,965,966,967,968,969,970,971,972,973,974,975,976,977,978,979,980,981,982,983,984,985,986,987,988,989,990,991,992,993,994,995,996,997,998,999],\"y\":[0.0,0.0,0.0,0.0,0.0,0.0,0.0,0.0,0.0,0.0,0.0,0.0,0.0,0.0,0.0,0.0,0.0,0.0,0.0,0.0,0.0,0.0,0.0,0.0,0.0,5.1,5.1,10.2,10.2,10.2,10.2,10.2,10.2,10.2,15.299999999999999,15.299999999999999,20.4,20.4,25.5,25.5,25.5,25.5,30.6,30.6,30.6,30.6,35.7,35.7,40.800000000000004,40.800000000000004,40.800000000000004,40.800000000000004,40.800000000000004,45.900000000000006,45.900000000000006,45.900000000000006,45.900000000000006,45.900000000000006,45.900000000000006,45.900000000000006,45.900000000000006,45.900000000000006,45.900000000000006,45.900000000000006,45.900000000000006,45.900000000000006,45.900000000000006,45.900000000000006,45.900000000000006,45.900000000000006,45.900000000000006,45.900000000000006,45.900000000000006,45.900000000000006,45.900000000000006,45.900000000000006,51.00000000000001,51.00000000000001,51.00000000000001,51.00000000000001,51.00000000000001,51.00000000000001,56.10000000000001,56.10000000000001,61.20000000000001,61.20000000000001,61.20000000000001,66.30000000000001,66.30000000000001,66.30000000000001,66.30000000000001,71.4,76.5,81.6,81.6,81.6,86.69999999999999,91.79999999999998,91.79999999999998,91.79999999999998,91.79999999999998,91.79999999999998,91.79999999999998,91.79999999999998,96.89999999999998,96.89999999999998,96.89999999999998,96.89999999999998,96.89999999999998,100.0,100.0,100.0,100.0,100.0,100.0,100.0,100.0,100.0,100.0,100.0,100.0,100.0,100.0,100.0,100.0,100.0,100.0,100.0,100.0,100.0,100.0,100.0,100.0,100.0,100.0,100.0,100.0,100.0,100.0,100.0,100.0,100.0,100.0,100.0,100.0,100.0,100.0,100.0,100.0,100.0,100.0,100.0,100.0,100.0,100.0,100.0,100.0,100.0,100.0,100.0,100.0,100.0,100.0,100.0,100.0,100.0,100.0,100.0,100.0,100.0,100.0,100.0,100.0,100.0,100.0,100.0,100.0,100.0,100.0,100.0,100.0,106.3,106.3,106.3,106.3,106.3,106.3,106.3,106.3,106.3,106.3,106.3,106.3,106.3,112.6,112.6,112.6,112.6,112.6,112.6,112.6,112.6,112.6,112.6,112.6,112.6,112.6,112.6,112.6,112.6,112.6,112.6,112.6,112.6,112.6,112.6,112.6,112.6,112.6,112.6,112.6,112.6,112.6,112.6,112.6,112.6,112.6,112.6,112.6,112.6,112.6,112.6,112.6,112.6,112.6,112.6,112.6,112.6,112.6,112.6,112.6,112.6,112.6,112.6,112.6,112.6,112.6,112.6,112.6,112.6,112.6,112.6,112.6,112.6,112.6,112.6,112.6,112.6,112.6,112.6,112.6,112.6,112.6,112.6,112.6,112.6,112.6,112.6,112.6,112.6,112.6,112.6,112.6,112.6,112.6,112.6,112.6,112.6,112.6,112.6,112.6,112.6,112.6,112.6,112.6,112.6,112.6,112.6,112.6,112.6,112.6,112.6,112.6,112.6,112.6,112.6,112.6,112.6,112.6,112.6,112.6,112.6,112.6,112.6,112.6,112.6,112.6,112.6,112.6,112.6,112.6,112.6,112.6,112.6,112.6,112.6,112.6,112.6,112.6,112.6,112.6,112.6,112.6,112.6,112.6,112.6,112.6,112.6,112.6,112.6,112.6,112.6,112.6,112.6,112.6,112.6,118.89999999999999,118.89999999999999,118.89999999999999,118.89999999999999,118.89999999999999,118.89999999999999,118.89999999999999,118.89999999999999,118.89999999999999,125.19999999999999,125.19999999999999,125.19999999999999,125.19999999999999,125.19999999999999,125.19999999999999,125.19999999999999,125.19999999999999,125.19999999999999,125.19999999999999,125.19999999999999,125.19999999999999,125.19999999999999,125.19999999999999,131.5,131.5,131.5,131.5,131.5,131.5,131.5,131.5,131.5,131.5,131.5,131.5,137.8,137.8,137.8,137.8,137.8,137.8,137.8,137.8,137.8,137.8,137.8,144.10000000000002,144.10000000000002,144.10000000000002,144.10000000000002,144.10000000000002,144.10000000000002,144.10000000000002,144.10000000000002,150.40000000000003,150.40000000000003,150.40000000000003,150.40000000000003,150.40000000000003,150.40000000000003,150.40000000000003,150.40000000000003,150.40000000000003,150.40000000000003,150.40000000000003,150.40000000000003,150.40000000000003,150.40000000000003,156.70000000000005,156.70000000000005,156.70000000000005,156.70000000000005,156.70000000000005,156.70000000000005,156.70000000000005,156.70000000000005,156.70000000000005,156.70000000000005,156.70000000000005,156.70000000000005,156.70000000000005,156.70000000000005,156.70000000000005,163.00000000000006,163.00000000000006,163.00000000000006,163.00000000000006,163.00000000000006,163.00000000000006,169.30000000000007,169.30000000000007,169.30000000000007,169.30000000000007,169.30000000000007,169.30000000000007,169.30000000000007,169.30000000000007,169.30000000000007,169.30000000000007,169.30000000000007,169.30000000000007,169.30000000000007,169.30000000000007,169.30000000000007,169.30000000000007,169.30000000000007,169.30000000000007,169.30000000000007,169.30000000000007,169.30000000000007,169.30000000000007,169.30000000000007,169.30000000000007,169.30000000000007,169.30000000000007,169.30000000000007,169.30000000000007,169.30000000000007,169.30000000000007,169.30000000000007,169.30000000000007,169.30000000000007,169.30000000000007,169.30000000000007,169.30000000000007,169.30000000000007,169.30000000000007,169.30000000000007,169.30000000000007,169.30000000000007,175.60000000000008,175.60000000000008,175.60000000000008,175.60000000000008,175.60000000000008,175.60000000000008,175.60000000000008,175.60000000000008,175.60000000000008,175.60000000000008,175.60000000000008,175.60000000000008,175.60000000000008,175.60000000000008,175.60000000000008,175.60000000000008,175.60000000000008,175.60000000000008,175.60000000000008,175.60000000000008,175.60000000000008,175.60000000000008,181.9000000000001,181.9000000000001,181.9000000000001,181.9000000000001,181.9000000000001,181.9000000000001,181.9000000000001,181.9000000000001,181.9000000000001,181.9000000000001,181.9000000000001,181.9000000000001,181.9000000000001,181.9000000000001,181.9000000000001,181.9000000000001,181.9000000000001,181.9000000000001,181.9000000000001,181.9000000000001,181.9000000000001,188.2000000000001,188.2000000000001,188.2000000000001,188.2000000000001,194.5000000000001,194.5000000000001,194.5000000000001,194.5000000000001,194.5000000000001,194.5000000000001,194.5000000000001,194.5000000000001,194.5000000000001,194.5000000000001,194.5000000000001,194.5000000000001,200.00000000000014,200.00000000000014,200.00000000000014,200.00000000000014,200.00000000000014,200.00000000000014,200.00000000000014,200.00000000000014,201.60000000000014,201.60000000000014,201.60000000000014,203.20000000000013,203.20000000000013,203.20000000000013,203.20000000000013,204.80000000000013,204.80000000000013,204.80000000000013,206.40000000000012,206.40000000000012,206.40000000000012,206.40000000000012,208.0000000000001,208.0000000000001,208.0000000000001,208.0000000000001,209.6000000000001,209.6000000000001,209.6000000000001,209.6000000000001,209.6000000000001,209.6000000000001,209.6000000000001,209.6000000000001,209.6000000000001,211.2000000000001,212.8000000000001,212.8000000000001,212.8000000000001,212.8000000000001,212.8000000000001,212.8000000000001,212.8000000000001,214.4000000000001,216.00000000000009,216.00000000000009,217.60000000000008,219.20000000000007,219.20000000000007,220.80000000000007,220.80000000000007,220.80000000000007,220.80000000000007,220.80000000000007,220.80000000000007,220.80000000000007,220.80000000000007,222.40000000000006,222.40000000000006,222.40000000000006,222.40000000000006,222.40000000000006,222.40000000000006,222.40000000000006,222.40000000000006,222.40000000000006,222.40000000000006,222.40000000000006,222.40000000000006,222.40000000000006,222.40000000000006,222.40000000000006,222.40000000000006,222.40000000000006,224.00000000000006,224.00000000000006,224.00000000000006,224.00000000000006,224.00000000000006,224.00000000000006,224.00000000000006,224.00000000000006,224.00000000000006,224.00000000000006,224.00000000000006,224.00000000000006,224.00000000000006,224.00000000000006,232.90000000000006,232.90000000000006,232.90000000000006,232.90000000000006,232.90000000000006,232.90000000000006,232.90000000000006,232.90000000000006,232.90000000000006,232.90000000000006,232.90000000000006,232.90000000000006,232.90000000000006,232.90000000000006,232.90000000000006,234.50000000000006,234.50000000000006,236.10000000000005,236.10000000000005,237.70000000000005,237.70000000000005,239.30000000000004,239.30000000000004,239.30000000000004,240.90000000000003,240.90000000000003,240.90000000000003,242.50000000000003,242.50000000000003,242.50000000000003,242.50000000000003,242.50000000000003,242.50000000000003,242.50000000000003,242.50000000000003,242.50000000000003,242.50000000000003,242.50000000000003,242.50000000000003,242.50000000000003,242.50000000000003,242.50000000000003,242.50000000000003,242.50000000000003,242.50000000000003,242.50000000000003,244.10000000000002,244.10000000000002,244.10000000000002,244.10000000000002,244.10000000000002,244.10000000000002,244.10000000000002,244.10000000000002,244.10000000000002,244.10000000000002,244.10000000000002,244.10000000000002,244.10000000000002,244.10000000000002,244.10000000000002,244.10000000000002,244.10000000000002,244.10000000000002,244.10000000000002,244.10000000000002,244.10000000000002,244.10000000000002,244.10000000000002,244.10000000000002,244.10000000000002,244.10000000000002,244.10000000000002,244.10000000000002,244.10000000000002,244.10000000000002,245.70000000000002,245.70000000000002,247.3,247.3,247.3,248.9,248.9,248.9,248.9,248.9,248.9,248.9,248.9,248.9,248.9,248.9,248.9,248.9,248.9,248.9,248.9,248.9,248.9,248.9,250.5,250.5,250.5,250.5,250.5,250.5,250.5,250.5,250.5,252.1,252.1,252.1,252.1,252.1,252.1,252.1,252.1,253.7,253.7,255.29999999999998,255.29999999999998,255.29999999999998,255.29999999999998,255.29999999999998,255.29999999999998,255.29999999999998,255.29999999999998,255.29999999999998,255.29999999999998,255.29999999999998,255.29999999999998,256.9,256.9,256.9,256.9,256.9,256.9,258.5,258.5,260.1,260.1,260.1,260.1,260.1,261.70000000000005,261.70000000000005,263.30000000000007,263.30000000000007,263.30000000000007,263.30000000000007,264.9000000000001,266.5000000000001,266.5000000000001,266.5000000000001,266.5000000000001,266.5000000000001,266.5000000000001,266.5000000000001,266.5000000000001,268.10000000000014,268.10000000000014,268.10000000000014,268.10000000000014,268.10000000000014,269.70000000000016,269.70000000000016,269.70000000000016,269.70000000000016,269.70000000000016,269.70000000000016,269.70000000000016,269.70000000000016,269.70000000000016,269.70000000000016,269.70000000000016,269.70000000000016,269.70000000000016,269.70000000000016,269.70000000000016,269.70000000000016,269.70000000000016,269.70000000000016,269.70000000000016,269.70000000000016,269.70000000000016,269.70000000000016,269.70000000000016,269.70000000000016,269.70000000000016,269.70000000000016,269.70000000000016,269.70000000000016,269.70000000000016,269.70000000000016,269.70000000000016,269.70000000000016,269.70000000000016,269.70000000000016,269.70000000000016,269.70000000000016,269.70000000000016,269.70000000000016,269.70000000000016,269.70000000000016,269.70000000000016,269.70000000000016,269.70000000000016,269.70000000000016,269.70000000000016,269.70000000000016,271.3000000000002,271.3000000000002,272.9000000000002,272.9000000000002,274.5000000000002,274.5000000000002,274.5000000000002,274.5000000000002,274.5000000000002,274.5000000000002,276.10000000000025,276.10000000000025,276.10000000000025,276.10000000000025,276.10000000000025,276.10000000000025,277.7000000000003,277.7000000000003,277.7000000000003,277.7000000000003,277.7000000000003,277.7000000000003,277.7000000000003,277.7000000000003,279.3000000000003,279.3000000000003,279.3000000000003,280.9000000000003,280.9000000000003,280.9000000000003,280.9000000000003,280.9000000000003,280.9000000000003,280.9000000000003,280.9000000000003,280.9000000000003,280.9000000000003,280.9000000000003,280.9000000000003,282.50000000000034,282.50000000000034,282.50000000000034,282.50000000000034,282.50000000000034,282.50000000000034,282.50000000000034,282.50000000000034,282.50000000000034,282.50000000000034,282.50000000000034,282.50000000000034,282.50000000000034,282.50000000000034,284.10000000000036,284.10000000000036,284.10000000000036,284.10000000000036,284.10000000000036,284.10000000000036,284.10000000000036,284.10000000000036,284.10000000000036,284.10000000000036,284.10000000000036,285.7000000000004,285.7000000000004,287.3000000000004,287.3000000000004,287.3000000000004,287.3000000000004,287.3000000000004,287.3000000000004,288.90000000000043,288.90000000000043,288.90000000000043,288.90000000000043,288.90000000000043,288.90000000000043,288.90000000000043,288.90000000000043,288.90000000000043,288.90000000000043,288.90000000000043,288.90000000000043,288.90000000000043,288.90000000000043,288.90000000000043,288.90000000000043,288.90000000000043,288.90000000000043,288.90000000000043,290.50000000000045,292.1000000000005,293.7000000000005,293.7000000000005,293.7000000000005,295.3000000000005,295.3000000000005,295.3000000000005,295.3000000000005,295.3000000000005,295.3000000000005,295.3000000000005,295.3000000000005,295.3000000000005,295.3000000000005,295.3000000000005,296.90000000000055,298.50000000000057,298.50000000000057,298.50000000000057,300.1000000000006,300.1000000000006,300.1000000000006,301.7000000000006,301.7000000000006,301.7000000000006,301.7000000000006,301.7000000000006,301.7000000000006,301.7000000000006,303.30000000000064,304.90000000000066,306.5000000000007,306.5000000000007,306.5000000000007,306.5000000000007,306.5000000000007,306.5000000000007,306.5000000000007,306.5000000000007,306.5000000000007,306.5000000000007,308.1000000000007,308.1000000000007,308.1000000000007,308.1000000000007,308.1000000000007,308.1000000000007,308.1000000000007,308.1000000000007,308.1000000000007,308.1000000000007,308.1000000000007,308.1000000000007,308.1000000000007,308.1000000000007,308.1000000000007,308.1000000000007,308.1000000000007,308.1000000000007,308.1000000000007,308.1000000000007,308.1000000000007,308.1000000000007,308.1000000000007,308.9000000000008,308.9000000000008,308.9000000000008,308.9000000000008,308.9000000000008,308.9000000000008,308.9000000000008,308.9000000000008,308.9000000000008,308.9000000000008,308.9000000000008,308.9000000000008,308.9000000000008,308.9000000000008,308.9000000000008,308.9000000000008,308.9000000000008,308.9000000000008,308.9000000000008,308.9000000000008,308.9000000000008],\"type\":\"scatter\"},{\"mode\":\"lines\",\"x\":[78.17251600498683,172.41071575561355,348.8586615154469,606.5817618080621,910.0835111646315],\"y\":[100.0,200.0,300.0,400.0,500.0],\"type\":\"scatter\"}],                        {\"template\":{\"data\":{\"histogram2dcontour\":[{\"type\":\"histogram2dcontour\",\"colorbar\":{\"outlinewidth\":0,\"ticks\":\"\"},\"colorscale\":[[0.0,\"#0d0887\"],[0.1111111111111111,\"#46039f\"],[0.2222222222222222,\"#7201a8\"],[0.3333333333333333,\"#9c179e\"],[0.4444444444444444,\"#bd3786\"],[0.5555555555555556,\"#d8576b\"],[0.6666666666666666,\"#ed7953\"],[0.7777777777777778,\"#fb9f3a\"],[0.8888888888888888,\"#fdca26\"],[1.0,\"#f0f921\"]]}],\"choropleth\":[{\"type\":\"choropleth\",\"colorbar\":{\"outlinewidth\":0,\"ticks\":\"\"}}],\"histogram2d\":[{\"type\":\"histogram2d\",\"colorbar\":{\"outlinewidth\":0,\"ticks\":\"\"},\"colorscale\":[[0.0,\"#0d0887\"],[0.1111111111111111,\"#46039f\"],[0.2222222222222222,\"#7201a8\"],[0.3333333333333333,\"#9c179e\"],[0.4444444444444444,\"#bd3786\"],[0.5555555555555556,\"#d8576b\"],[0.6666666666666666,\"#ed7953\"],[0.7777777777777778,\"#fb9f3a\"],[0.8888888888888888,\"#fdca26\"],[1.0,\"#f0f921\"]]}],\"heatmap\":[{\"type\":\"heatmap\",\"colorbar\":{\"outlinewidth\":0,\"ticks\":\"\"},\"colorscale\":[[0.0,\"#0d0887\"],[0.1111111111111111,\"#46039f\"],[0.2222222222222222,\"#7201a8\"],[0.3333333333333333,\"#9c179e\"],[0.4444444444444444,\"#bd3786\"],[0.5555555555555556,\"#d8576b\"],[0.6666666666666666,\"#ed7953\"],[0.7777777777777778,\"#fb9f3a\"],[0.8888888888888888,\"#fdca26\"],[1.0,\"#f0f921\"]]}],\"heatmapgl\":[{\"type\":\"heatmapgl\",\"colorbar\":{\"outlinewidth\":0,\"ticks\":\"\"},\"colorscale\":[[0.0,\"#0d0887\"],[0.1111111111111111,\"#46039f\"],[0.2222222222222222,\"#7201a8\"],[0.3333333333333333,\"#9c179e\"],[0.4444444444444444,\"#bd3786\"],[0.5555555555555556,\"#d8576b\"],[0.6666666666666666,\"#ed7953\"],[0.7777777777777778,\"#fb9f3a\"],[0.8888888888888888,\"#fdca26\"],[1.0,\"#f0f921\"]]}],\"contourcarpet\":[{\"type\":\"contourcarpet\",\"colorbar\":{\"outlinewidth\":0,\"ticks\":\"\"}}],\"contour\":[{\"type\":\"contour\",\"colorbar\":{\"outlinewidth\":0,\"ticks\":\"\"},\"colorscale\":[[0.0,\"#0d0887\"],[0.1111111111111111,\"#46039f\"],[0.2222222222222222,\"#7201a8\"],[0.3333333333333333,\"#9c179e\"],[0.4444444444444444,\"#bd3786\"],[0.5555555555555556,\"#d8576b\"],[0.6666666666666666,\"#ed7953\"],[0.7777777777777778,\"#fb9f3a\"],[0.8888888888888888,\"#fdca26\"],[1.0,\"#f0f921\"]]}],\"surface\":[{\"type\":\"surface\",\"colorbar\":{\"outlinewidth\":0,\"ticks\":\"\"},\"colorscale\":[[0.0,\"#0d0887\"],[0.1111111111111111,\"#46039f\"],[0.2222222222222222,\"#7201a8\"],[0.3333333333333333,\"#9c179e\"],[0.4444444444444444,\"#bd3786\"],[0.5555555555555556,\"#d8576b\"],[0.6666666666666666,\"#ed7953\"],[0.7777777777777778,\"#fb9f3a\"],[0.8888888888888888,\"#fdca26\"],[1.0,\"#f0f921\"]]}],\"mesh3d\":[{\"type\":\"mesh3d\",\"colorbar\":{\"outlinewidth\":0,\"ticks\":\"\"}}],\"scatter\":[{\"fillpattern\":{\"fillmode\":\"overlay\",\"size\":10,\"solidity\":0.2},\"type\":\"scatter\"}],\"parcoords\":[{\"type\":\"parcoords\",\"line\":{\"colorbar\":{\"outlinewidth\":0,\"ticks\":\"\"}}}],\"scatterpolargl\":[{\"type\":\"scatterpolargl\",\"marker\":{\"colorbar\":{\"outlinewidth\":0,\"ticks\":\"\"}}}],\"bar\":[{\"error_x\":{\"color\":\"#2a3f5f\"},\"error_y\":{\"color\":\"#2a3f5f\"},\"marker\":{\"line\":{\"color\":\"#E5ECF6\",\"width\":0.5},\"pattern\":{\"fillmode\":\"overlay\",\"size\":10,\"solidity\":0.2}},\"type\":\"bar\"}],\"scattergeo\":[{\"type\":\"scattergeo\",\"marker\":{\"colorbar\":{\"outlinewidth\":0,\"ticks\":\"\"}}}],\"scatterpolar\":[{\"type\":\"scatterpolar\",\"marker\":{\"colorbar\":{\"outlinewidth\":0,\"ticks\":\"\"}}}],\"histogram\":[{\"marker\":{\"pattern\":{\"fillmode\":\"overlay\",\"size\":10,\"solidity\":0.2}},\"type\":\"histogram\"}],\"scattergl\":[{\"type\":\"scattergl\",\"marker\":{\"colorbar\":{\"outlinewidth\":0,\"ticks\":\"\"}}}],\"scatter3d\":[{\"type\":\"scatter3d\",\"line\":{\"colorbar\":{\"outlinewidth\":0,\"ticks\":\"\"}},\"marker\":{\"colorbar\":{\"outlinewidth\":0,\"ticks\":\"\"}}}],\"scattermapbox\":[{\"type\":\"scattermapbox\",\"marker\":{\"colorbar\":{\"outlinewidth\":0,\"ticks\":\"\"}}}],\"scatterternary\":[{\"type\":\"scatterternary\",\"marker\":{\"colorbar\":{\"outlinewidth\":0,\"ticks\":\"\"}}}],\"scattercarpet\":[{\"type\":\"scattercarpet\",\"marker\":{\"colorbar\":{\"outlinewidth\":0,\"ticks\":\"\"}}}],\"carpet\":[{\"aaxis\":{\"endlinecolor\":\"#2a3f5f\",\"gridcolor\":\"white\",\"linecolor\":\"white\",\"minorgridcolor\":\"white\",\"startlinecolor\":\"#2a3f5f\"},\"baxis\":{\"endlinecolor\":\"#2a3f5f\",\"gridcolor\":\"white\",\"linecolor\":\"white\",\"minorgridcolor\":\"white\",\"startlinecolor\":\"#2a3f5f\"},\"type\":\"carpet\"}],\"table\":[{\"cells\":{\"fill\":{\"color\":\"#EBF0F8\"},\"line\":{\"color\":\"white\"}},\"header\":{\"fill\":{\"color\":\"#C8D4E3\"},\"line\":{\"color\":\"white\"}},\"type\":\"table\"}],\"barpolar\":[{\"marker\":{\"line\":{\"color\":\"#E5ECF6\",\"width\":0.5},\"pattern\":{\"fillmode\":\"overlay\",\"size\":10,\"solidity\":0.2}},\"type\":\"barpolar\"}],\"pie\":[{\"automargin\":true,\"type\":\"pie\"}]},\"layout\":{\"autotypenumbers\":\"strict\",\"colorway\":[\"#636efa\",\"#EF553B\",\"#00cc96\",\"#ab63fa\",\"#FFA15A\",\"#19d3f3\",\"#FF6692\",\"#B6E880\",\"#FF97FF\",\"#FECB52\"],\"font\":{\"color\":\"#2a3f5f\"},\"hovermode\":\"closest\",\"hoverlabel\":{\"align\":\"left\"},\"paper_bgcolor\":\"white\",\"plot_bgcolor\":\"#E5ECF6\",\"polar\":{\"bgcolor\":\"#E5ECF6\",\"angularaxis\":{\"gridcolor\":\"white\",\"linecolor\":\"white\",\"ticks\":\"\"},\"radialaxis\":{\"gridcolor\":\"white\",\"linecolor\":\"white\",\"ticks\":\"\"}},\"ternary\":{\"bgcolor\":\"#E5ECF6\",\"aaxis\":{\"gridcolor\":\"white\",\"linecolor\":\"white\",\"ticks\":\"\"},\"baxis\":{\"gridcolor\":\"white\",\"linecolor\":\"white\",\"ticks\":\"\"},\"caxis\":{\"gridcolor\":\"white\",\"linecolor\":\"white\",\"ticks\":\"\"}},\"coloraxis\":{\"colorbar\":{\"outlinewidth\":0,\"ticks\":\"\"}},\"colorscale\":{\"sequential\":[[0.0,\"#0d0887\"],[0.1111111111111111,\"#46039f\"],[0.2222222222222222,\"#7201a8\"],[0.3333333333333333,\"#9c179e\"],[0.4444444444444444,\"#bd3786\"],[0.5555555555555556,\"#d8576b\"],[0.6666666666666666,\"#ed7953\"],[0.7777777777777778,\"#fb9f3a\"],[0.8888888888888888,\"#fdca26\"],[1.0,\"#f0f921\"]],\"sequentialminus\":[[0.0,\"#0d0887\"],[0.1111111111111111,\"#46039f\"],[0.2222222222222222,\"#7201a8\"],[0.3333333333333333,\"#9c179e\"],[0.4444444444444444,\"#bd3786\"],[0.5555555555555556,\"#d8576b\"],[0.6666666666666666,\"#ed7953\"],[0.7777777777777778,\"#fb9f3a\"],[0.8888888888888888,\"#fdca26\"],[1.0,\"#f0f921\"]],\"diverging\":[[0,\"#8e0152\"],[0.1,\"#c51b7d\"],[0.2,\"#de77ae\"],[0.3,\"#f1b6da\"],[0.4,\"#fde0ef\"],[0.5,\"#f7f7f7\"],[0.6,\"#e6f5d0\"],[0.7,\"#b8e186\"],[0.8,\"#7fbc41\"],[0.9,\"#4d9221\"],[1,\"#276419\"]]},\"xaxis\":{\"gridcolor\":\"white\",\"linecolor\":\"white\",\"ticks\":\"\",\"title\":{\"standoff\":15},\"zerolinecolor\":\"white\",\"automargin\":true,\"zerolinewidth\":2},\"yaxis\":{\"gridcolor\":\"white\",\"linecolor\":\"white\",\"ticks\":\"\",\"title\":{\"standoff\":15},\"zerolinecolor\":\"white\",\"automargin\":true,\"zerolinewidth\":2},\"scene\":{\"xaxis\":{\"backgroundcolor\":\"#E5ECF6\",\"gridcolor\":\"white\",\"linecolor\":\"white\",\"showbackground\":true,\"ticks\":\"\",\"zerolinecolor\":\"white\",\"gridwidth\":2},\"yaxis\":{\"backgroundcolor\":\"#E5ECF6\",\"gridcolor\":\"white\",\"linecolor\":\"white\",\"showbackground\":true,\"ticks\":\"\",\"zerolinecolor\":\"white\",\"gridwidth\":2},\"zaxis\":{\"backgroundcolor\":\"#E5ECF6\",\"gridcolor\":\"white\",\"linecolor\":\"white\",\"showbackground\":true,\"ticks\":\"\",\"zerolinecolor\":\"white\",\"gridwidth\":2}},\"shapedefaults\":{\"line\":{\"color\":\"#2a3f5f\"}},\"annotationdefaults\":{\"arrowcolor\":\"#2a3f5f\",\"arrowhead\":0,\"arrowwidth\":1},\"geo\":{\"bgcolor\":\"white\",\"landcolor\":\"#E5ECF6\",\"subunitcolor\":\"white\",\"showland\":true,\"showlakes\":true,\"lakecolor\":\"white\"},\"title\":{\"x\":0.05},\"mapbox\":{\"style\":\"light\"}}}},                        {\"responsive\": true}                    ).then(function(){\n",
              "                            \n",
              "var gd = document.getElementById('cf89d222-e033-447c-a93d-96e65ab0c349');\n",
              "var x = new MutationObserver(function (mutations, observer) {{\n",
              "        var display = window.getComputedStyle(gd).display;\n",
              "        if (!display || display === 'none') {{\n",
              "            console.log([gd, 'removed!']);\n",
              "            Plotly.purge(gd);\n",
              "            observer.disconnect();\n",
              "        }}\n",
              "}});\n",
              "\n",
              "// Listen for the removal of the full notebook cells\n",
              "var notebookContainer = gd.closest('#notebook-container');\n",
              "if (notebookContainer) {{\n",
              "    x.observe(notebookContainer, {childList: true});\n",
              "}}\n",
              "\n",
              "// Listen for the clearing of the current output cell\n",
              "var outputEl = gd.closest('.output');\n",
              "if (outputEl) {{\n",
              "    x.observe(outputEl, {childList: true});\n",
              "}}\n",
              "\n",
              "                        })                };                            </script>        </div>\n",
              "</body>\n",
              "</html>"
            ]
          },
          "metadata": {}
        }
      ]
    },
    {
      "cell_type": "markdown",
      "metadata": {
        "id": "rL7hlSVY7U4s"
      },
      "source": [
        "# Data PreProcessing"
      ]
    },
    {
      "cell_type": "markdown",
      "metadata": {
        "id": "7__WbME-7U4s"
      },
      "source": [
        "## Categorical Features"
      ]
    },
    {
      "cell_type": "code",
      "execution_count": null,
      "metadata": {
        "id": "qhbGuA4o7U4s"
      },
      "outputs": [],
      "source": [
        "ENCODING_COLS = [\n",
        " 'cat_features_0',\n",
        " 'cat_features_1',\n",
        " 'cat_features_2',\n",
        " 'cat_features_3',\n",
        " 'prob_features_15',\n",
        " 'prob_features_16']"
      ]
    },
    {
      "cell_type": "code",
      "execution_count": null,
      "metadata": {
        "colab": {
          "base_uri": "https://localhost:8080/",
          "height": 193
        },
        "id": "ofEo-gWM7U4t",
        "outputId": "58abdfe0-d77e-41fa-cd0e-8d36652712b9"
      },
      "outputs": [
        {
          "output_type": "error",
          "ename": "NameError",
          "evalue": "name 'df' is not defined",
          "traceback": [
            "\u001b[0;31m---------------------------------------------------------------------------\u001b[0m",
            "\u001b[0;31mNameError\u001b[0m                                 Traceback (most recent call last)",
            "\u001b[0;32m<ipython-input-15-6bb8b2190415>\u001b[0m in \u001b[0;36m<cell line: 2>\u001b[0;34m()\u001b[0m\n\u001b[1;32m      1\u001b[0m \u001b[0;31m# Label Encoding\u001b[0m\u001b[0;34m\u001b[0m\u001b[0;34m\u001b[0m\u001b[0m\n\u001b[0;32m----> 2\u001b[0;31m \u001b[0mthreshold\u001b[0m \u001b[0;34m=\u001b[0m \u001b[0mint\u001b[0m\u001b[0;34m(\u001b[0m\u001b[0;36m0.001\u001b[0m \u001b[0;34m*\u001b[0m \u001b[0mdf\u001b[0m\u001b[0;34m.\u001b[0m\u001b[0mshape\u001b[0m\u001b[0;34m[\u001b[0m\u001b[0;36m0\u001b[0m\u001b[0;34m]\u001b[0m\u001b[0;34m)\u001b[0m\u001b[0;34m\u001b[0m\u001b[0;34m\u001b[0m\u001b[0m\n\u001b[0m\u001b[1;32m      3\u001b[0m \u001b[0mlbe\u001b[0m \u001b[0;34m=\u001b[0m \u001b[0mLabelEncoder\u001b[0m\u001b[0;34m(\u001b[0m\u001b[0mmin_obs\u001b[0m\u001b[0;34m=\u001b[0m\u001b[0mthreshold\u001b[0m\u001b[0;34m)\u001b[0m\u001b[0;34m\u001b[0m\u001b[0;34m\u001b[0m\u001b[0m\n\u001b[1;32m      4\u001b[0m \u001b[0mdf\u001b[0m\u001b[0;34m[\u001b[0m\u001b[0mENCODING_COLS\u001b[0m\u001b[0;34m]\u001b[0m \u001b[0;34m=\u001b[0m \u001b[0mlbe\u001b[0m\u001b[0;34m.\u001b[0m\u001b[0mfit_transform\u001b[0m\u001b[0;34m(\u001b[0m\u001b[0mdf\u001b[0m\u001b[0;34m[\u001b[0m\u001b[0mENCODING_COLS\u001b[0m\u001b[0;34m]\u001b[0m\u001b[0;34m)\u001b[0m\u001b[0;34m\u001b[0m\u001b[0;34m\u001b[0m\u001b[0m\n",
            "\u001b[0;31mNameError\u001b[0m: name 'df' is not defined"
          ]
        }
      ],
      "source": [
        "# Label Encoding\n",
        "threshold = int(0.001 * df.shape[0])\n",
        "lbe = LabelEncoder(min_obs=threshold)\n",
        "df[ENCODING_COLS] = lbe.fit_transform(df[ENCODING_COLS])"
      ]
    },
    {
      "cell_type": "markdown",
      "metadata": {
        "id": "c7c2lEfE7U4t"
      },
      "source": [
        "## Numerical Features\n",
        "\n",
        "We pre-scaled the features already, so don't need to do any feature transfer here but we do recommd to check the distribution of the nuemerical features and do the transformation accordingly."
      ]
    },
    {
      "cell_type": "markdown",
      "metadata": {
        "id": "KOfAkyZXhfqv"
      },
      "source": []
    },
    {
      "cell_type": "markdown",
      "metadata": {
        "id": "R4Q8EuIE7U4u"
      },
      "source": [
        "## Missing Values"
      ]
    },
    {
      "cell_type": "code",
      "execution_count": null,
      "metadata": {
        "id": "bX_4s5Ep7U4u"
      },
      "outputs": [],
      "source": [
        "# Check if there any missing values\n",
        "relevant_cols = np.union1d(PROPENSITY_FEATURES, np.union1d(MATCHING_COVARIATES, INFERENCE_FEATURES))\n",
        "df[[c for c in relevant_cols if c in df]].isnull().sum()"
      ]
    },
    {
      "cell_type": "markdown",
      "metadata": {
        "id": "HWENAi877U4u"
      },
      "source": [
        "[link text](https://)# Build Propensity Model"
      ]
    },
    {
      "cell_type": "code",
      "execution_count": null,
      "metadata": {
        "id": "QQumZWhB7U4u"
      },
      "outputs": [],
      "source": [
        "params = {\n",
        "          'objective': 'binary',\n",
        "          'metric': 'auc',\n",
        "          'learning_rate': 0.1,\n",
        "          'num_leaves': 6,\n",
        "          'bagging_freq': 1,\n",
        "          'seed': 8,\n",
        "          'verbose': 0,\n",
        "          'num_threads': -1,\n",
        "         }\n",
        "\n",
        "PROPENSITY_FEATURES = [col for col in set(PROPENSITY_FEATURES + ENCODING_COLS) if col in df.columns]\n",
        "\n",
        "# Supposons que PROPENSITY_FEATURES, ENCODING_COLS et df sont des variables définies ailleurs dans votre code.\n",
        "\n",
        "# PROPENSITY_FEATURES est une liste de caractéristiques (features) utilisées dans le contexte d'une analyse de propension.\n",
        "\n",
        "# ENCODING_COLS est une autre liste de caractéristiques.\n",
        "\n",
        "# df est un DataFrame pandas qui semble être la source des données.\n",
        "\n",
        "# L'objectif est de créer une nouvelle liste PROPENSITY_FEATURES qui combine les éléments uniques de PROPENSITY_FEATURES et ENCODING_COLS, en vérifiant si chaque élément est présent dans les colonnes du DataFrame df.\n",
        "\n",
        "# Explication ligne par ligne :\n",
        "\n",
        "# 1. [col for col in set(PROPENSITY_FEATURES + ENCODING_COLS)]: C'est une compréhension de liste (list comprehension) qui crée une liste à partir des éléments de PROPENSITY_FEATURES et ENCODING_COLS, en les combinant dans un ensemble (set) pour éliminer les doublons.\n",
        "\n",
        "# 2. if col in df.columns: La compréhension de liste ne garde que les éléments qui sont présents dans les colonnes du DataFrame df.\n",
        "\n",
        "# En résumé, cette ligne de code met à jour la liste PROPENSITY_FEATURES en ajoutant les éléments uniques de ENCODING_COLS (éliminant les doublons) tout en s'assurant que seuls les éléments présents dans les colonnes de df sont inclus.\n"
      ]
    },
    {
      "cell_type": "code",
      "execution_count": null,
      "metadata": {
        "id": "L2hRz9nt7U4u"
      },
      "outputs": [],
      "source": [
        "X_trn, X_val, y_trn, y_val = train_test_split(df[PROPENSITY_FEATURES], df[TREATMENT_COL].values, test_size=0.2)\n",
        "\n",
        "lgb_train = lgb.Dataset(X_trn, label=y_trn)\n",
        "lgb_valid = lgb.Dataset(X_val, label=y_val)\n",
        "\n",
        "clf = lgb.train(params,\n",
        "                lgb_train,\n",
        "                num_boost_round=500,\n",
        "                early_stopping_rounds=20,\n",
        "                valid_sets=lgb_valid,\n",
        "                verbose_eval=0)\n",
        "n_best = clf.best_iteration\n",
        "print('n_best', n_best)"
      ]
    },
    {
      "cell_type": "code",
      "execution_count": null,
      "metadata": {
        "id": "ikFnv8tB7U4v"
      },
      "outputs": [],
      "source": [
        "p_val = clf.predict(X_val)\n",
        "print('Validation AUC={:.4f}'.format(roc_auc_score(y_val, p_val)))"
      ]
    },
    {
      "cell_type": "code",
      "execution_count": null,
      "metadata": {
        "id": "HBv76Fw07U4v"
      },
      "outputs": [],
      "source": [
        "p_train = clf.predict(X_trn)\n",
        "print('Train AUC={:.4f}'.format(roc_auc_score(y_trn, p_train)))"
      ]
    },
    {
      "cell_type": "code",
      "execution_count": null,
      "metadata": {
        "id": "YvRWGNrT7U4v"
      },
      "outputs": [],
      "source": [
        "df['pihat']  = clf.predict(df[PROPENSITY_FEATURES])"
      ]
    },
    {
      "cell_type": "code",
      "execution_count": null,
      "metadata": {
        "id": "pyVS7ZUq7U4v"
      },
      "outputs": [],
      "source": [
        "imp = pd.DataFrame({'feature': PROPENSITY_FEATURES,\n",
        "                    'gain': clf.feature_importance(importance_type='gain')})\n",
        "imp.loc[:, 'gain'] = imp.gain / imp.gain.sum()\n",
        "imp = imp.sort_values('gain', ascending=False).set_index('feature')\n",
        "imp = imp.reset_index()\n",
        "imp.head(n=10)"
      ]
    },
    {
      "cell_type": "code",
      "execution_count": null,
      "metadata": {
        "id": "xPpUiu_J7U4v"
      },
      "outputs": [],
      "source": [
        "plot_evaluation(y_val, p_val)"
      ]
    },
    {
      "cell_type": "code",
      "execution_count": null,
      "metadata": {
        "id": "DNvNb7DX7U4w"
      },
      "outputs": [],
      "source": [
        "plot_evaluation(y_trn, p_train)"
      ]
    },
    {
      "cell_type": "markdown",
      "metadata": {
        "id": "IrHZYMSm7U4w"
      },
      "source": [
        "# Propensity Score Matching"
      ]
    },
    {
      "cell_type": "markdown",
      "metadata": {
        "id": "Z5gB5N6disLI"
      },
      "source": [
        "this provides commparable treatment and control groups"
      ]
    },
    {
      "cell_type": "code",
      "execution_count": null,
      "metadata": {
        "id": "4uRlSlK-7U4w"
      },
      "outputs": [],
      "source": [
        "# plot propensity score\n",
        "rcParams['figure.figsize'] = 8,8\n",
        "ax = sns.distplot(df[df[TREATMENT_COL] == 0]['pihat'])\n",
        "sns.distplot(df[df[TREATMENT_COL] == 1]['pihat'])\n",
        "ax.set_xlim(0, 1)\n",
        "ax.set_xlabel(\"propensity scores\")\n",
        "ax.set_ylabel('density')\n",
        "ax.legend(['Control', 'Treatment'])"
      ]
    },
    {
      "cell_type": "code",
      "execution_count": null,
      "metadata": {
        "id": "yaeeu3NF7U4w"
      },
      "outputs": [],
      "source": [
        "# before matching\n",
        "create_table_one(df, treatment_col='target', features=MATCHING_COVARIATES)"
      ]
    },
    {
      "cell_type": "code",
      "execution_count": null,
      "metadata": {
        "id": "JflFbBC-7U4w"
      },
      "outputs": [],
      "source": [
        "matcher = NearestNeighborMatch(caliper=0.01, replace=True)\n",
        "df_matched = matcher.match(data=df, treatment_col='target', score_cols=['pihat'])"
      ]
    },
    {
      "cell_type": "code",
      "execution_count": null,
      "metadata": {
        "id": "KbBpcF0T7U4w"
      },
      "outputs": [],
      "source": [
        "# after matching\n",
        "\n",
        "create_table_one(df_matched, treatment_col='target', features=MATCHING_COVARIATES)"
      ]
    },
    {
      "cell_type": "code",
      "execution_count": null,
      "metadata": {
        "id": "hSzicBIc7U4x"
      },
      "outputs": [],
      "source": [
        "# plot propensity score\n",
        "ax = sns.distplot(df_matched[df_matched[TREATMENT_COL] == 0]['pihat'])\n",
        "sns.distplot((df_matched[df_matched[TREATMENT_COL] == 1]['pihat']))\n",
        "ax.set_xlim(0, 1)\n",
        "ax.set_xlabel(\"propensity scores\")\n",
        "ax.set_ylabel('density')\n",
        "ax.legend(['Control', 'Treatment'])"
      ]
    },
    {
      "cell_type": "markdown",
      "metadata": {
        "id": "_F3ISyLtlgyc"
      },
      "source": []
    },
    {
      "cell_type": "markdown",
      "metadata": {
        "id": "o2jEDtP0lghH"
      },
      "source": []
    },
    {
      "cell_type": "markdown",
      "metadata": {
        "id": "XTN3uABV7U4x"
      },
      "source": [
        "[testo del link](https://)### Re-Calibrate propensity (`pihat_recal`) after matching"
      ]
    },
    {
      "cell_type": "code",
      "execution_count": null,
      "metadata": {
        "id": "_8-ZiRS17U4x"
      },
      "outputs": [],
      "source": [
        "p_model = ElasticNetPropensityModel()\n",
        "ohe = OneHotEncoder(min_obs=df.shape[0] * 0.01)\n",
        "X_cat = ohe.fit_transform(df_matched[ENCODING_COLS]).todense()\n",
        "X = np.hstack([df_matched[PROPENSITY_FEATURES].values, X_cat])\n",
        "\n",
        "df_matched['pihat_recal'] = p_model.fit_predict(X, df_matched['target'])"
      ]
    },
    {
      "cell_type": "code",
      "execution_count": null,
      "metadata": {
        "id": "q3WVCxaB7U4x"
      },
      "outputs": [],
      "source": [
        "# plot propensity score\n",
        "ax = sns.distplot(df_matched[df_matched[TREATMENT_COL] == 0]['pihat_recal'])\n",
        "sns.distplot((df_matched[df_matched[TREATMENT_COL] == 1]['pihat_recal']))\n",
        "ax.set_xlim(0, 1)\n",
        "ax.set_xlabel(\"propensity scores\")\n",
        "ax.set_ylabel('density')\n",
        "ax.legend(['Control', 'Treatment'])"
      ]
    },
    {
      "cell_type": "markdown",
      "metadata": {
        "id": "CqSM561J7U4x"
      },
      "source": [
        "# Inference Analysis"
      ]
    },
    {
      "cell_type": "code",
      "execution_count": null,
      "metadata": {
        "id": "qIjhzioo7U4x"
      },
      "outputs": [],
      "source": [
        "def prepare_inputs(df, p_col='pihat', w_col='target', y_col='post_sum_gross_bookings', inference_features=INFERENCE_FEATURES):\n",
        "    X =df[INFERENCE_FEATURES].values\n",
        "    p = df[p_col].values\n",
        "    w = df[w_col].values\n",
        "    df[y_col] = df[y_col].fillna(0)\n",
        "    y = df[y_col].values\n",
        "\n",
        "    return X, p ,w, y"
      ]
    },
    {
      "cell_type": "code",
      "execution_count": null,
      "metadata": {
        "id": "JkivC34p7U4x"
      },
      "outputs": [],
      "source": [
        "INFERENCE_FEATURES_LR =[col for col in INFERENCE_FEATURES if col not in ENCODING_COLS ]"
      ]
    },
    {
      "cell_type": "code",
      "execution_count": null,
      "metadata": {
        "id": "02qXou8f7U4y"
      },
      "outputs": [],
      "source": [
        "def run_learners(df, p_col='pihat', w_col='target', y_col='post_sum_gross_bookings', k=5):\n",
        "    preds_dict = {}\n",
        "\n",
        "    for base_learner,label_l in zip([BaseSRegressor, BaseTRegressor, BaseXRegressor, BaseRRegressor],['S', 'T','X','R']):\n",
        "        for model,label_m in zip([LinearRegression, XGBRegressor],['LR', 'XGB']):\n",
        "            if label_m !='LR':\n",
        "                X, p, w, y = prepare_inputs(df, p_col, w_col, y_col)\n",
        "            else:\n",
        "                ohe = OneHotEncoder(min_obs=df.shape[0] * 0.01)\n",
        "                X_cat = ohe.fit_transform(df[ENCODING_COLS]).todense()\n",
        "                X = np.hstack([df[INFERENCE_FEATURES_LR].values, X_cat])\n",
        "                p = df[p_col].values\n",
        "                w = df[w_col].values\n",
        "                df[y_col] = df[y_col].fillna(0)\n",
        "                y = df[y_col].values\n",
        "\n",
        "            if label_l == 'S':\n",
        "                learner = base_learner(learner=model())\n",
        "                ate, lb, ub = learner.estimate_ate(X=X,treatment=w,y=y,return_ci=True)\n",
        "                preds_dict['{} Learner ({})'.format(label_l, label_m)] = np.ravel([ate, lb, ub])\n",
        "            elif label_l == 'T':\n",
        "                learner = base_learner(learner=model())\n",
        "                ate, lb, ub = learner.estimate_ate(X=X,treatment=w,y=y)\n",
        "                preds_dict['{} Learner ({})'.format(label_l, label_m)] = np.ravel([ate, lb, ub])\n",
        "            elif label_l == 'X':\n",
        "                learner = base_learner(learner=model())\n",
        "                ate, lb, ub = learner.estimate_ate(X=X,p=p,treatment=w,y=y)\n",
        "                preds_dict['{} Learner ({})'.format(label_l, label_m)] = np.ravel([ate, lb, ub])\n",
        "            elif label_l == 'R':\n",
        "                learner = base_learner(model(), n_fold=k)\n",
        "                ate, lb, ub = learner.estimate_ate(X=X,p=p,treatment=w,y=y)\n",
        "                preds_dict['{} Learner ({})'.format(label_l, label_m)] = np.ravel([ate, lb, ub])\n",
        "    return preds_dict"
      ]
    },
    {
      "cell_type": "markdown",
      "metadata": {
        "id": "GQxBG6t4q-xE"
      },
      "source": []
    },
    {
      "cell_type": "code",
      "execution_count": null,
      "metadata": {
        "id": "iV9HLl-2q_WJ"
      },
      "outputs": [],
      "source": []
    },
    {
      "cell_type": "code",
      "execution_count": null,
      "metadata": {
        "id": "EJO27mb57U4y"
      },
      "outputs": [],
      "source": [
        "def get_ate_summary(df, preds_dict, w_col='target', y_col='y_col'):\n",
        "    preds_df = pd.DataFrame(preds_dict).T\n",
        "    preds_df.columns = ['ATE', 'Lower', 'Upper']\n",
        "    post_treatment = df[df[w_col]==1][y_col].mean()\n",
        "    preds_df['Baseline'] = post_treatment - preds_df['ATE']\n",
        "    preds_df['Lift'] = preds_df['ATE'] / preds_df['Baseline']\n",
        "    preds_df = preds_df.round(4)\n",
        "    return preds_df.T"
      ]
    },
    {
      "cell_type": "code",
      "execution_count": null,
      "metadata": {
        "id": "yjEWQy7b7U4y"
      },
      "outputs": [],
      "source": [
        "# After Re-Calibrate\n",
        "preds = run_learners(df_matched, y_col='y_col', p_col='pihat_recal')\n",
        "get_ate_summary(df_matched, preds, y_col='y_col')"
      ]
    },
    {
      "cell_type": "markdown",
      "metadata": {
        "id": "LTB_V-C_7U4y"
      },
      "source": [
        "\n",
        "\n",
        "```\n",
        "# 此内容为代码格式\n",
        "```\n",
        "\n",
        "# Sensitivity Analysis"
      ]
    },
    {
      "cell_type": "markdown",
      "metadata": {
        "id": "S8dVKtMk7U4y"
      },
      "source": [
        "All Five methods (with One Sided confounding function and default alpha)"
      ]
    },
    {
      "cell_type": "code",
      "execution_count": null,
      "metadata": {
        "id": "o9bAlmMN7U4y"
      },
      "outputs": [],
      "source": [
        "# Calling the Base XLearner class and return the sensitivity analysis summary report\n",
        "learner_x = BaseXRegressor(LinearRegression())\n",
        "sens_x = Sensitivity(df=df_matched, inference_features=INFERENCE_FEATURES, p_col='pihat_recal',\n",
        "                     treatment_col=TREATMENT_COL, outcome_col=OUTCOME_COL, learner=learner_x)\n",
        "# Here for Selection Bias method will use default one-sided confounding function and alpha (quantile range of outcome values) input\n",
        "sens_sumary_x = sens_x.sensitivity_analysis(methods=['Placebo Treatment',\n",
        "                                                     'Random Cause',\n",
        "                                                     'Subset Data',\n",
        "                                                     'Random Replace',\n",
        "                                                     'Selection Bias'], sample_size=0.9)"
      ]
    },
    {
      "cell_type": "code",
      "execution_count": null,
      "metadata": {
        "id": "ONa0rFye2Ixa"
      },
      "outputs": [],
      "source": []
    },
    {
      "cell_type": "code",
      "execution_count": null,
      "metadata": {
        "id": "F8URofTn7U4y"
      },
      "outputs": [],
      "source": [
        "# From the following results, refutation methods show our model is pretty robust;\n",
        "# When alpah > 0, the treated group always has higher mean potential outcomes than the control; when  < 0, the control group is better off.\n",
        "sens_sumary_x"
      ]
    },
    {
      "cell_type": "code",
      "execution_count": null,
      "metadata": {
        "id": "UKyg45-cKTNh"
      },
      "outputs": [],
      "source": [
        "import pandas as pd\n",
        "df = pd.DataFrame({\"A\":[1,1,3,2,2,1,3], \"B\":[1,2,3,1,2,3, 1]})"
      ]
    },
    {
      "cell_type": "code",
      "source": [
        "df"
      ],
      "metadata": {
        "id": "sR1qz9m6sfbj"
      },
      "execution_count": null,
      "outputs": []
    },
    {
      "cell_type": "code",
      "source": [
        "df"
      ],
      "metadata": {
        "id": "_vW4W_mfsOcm"
      },
      "execution_count": null,
      "outputs": []
    },
    {
      "cell_type": "code",
      "source": [
        "df[\"B\"].shift(-1)"
      ],
      "metadata": {
        "id": "0cnnO9OcsTec"
      },
      "execution_count": null,
      "outputs": []
    },
    {
      "cell_type": "code",
      "source": [
        "df[\"A\"].quantile(95)"
      ],
      "metadata": {
        "id": "AEWSrTfGuKWy"
      },
      "execution_count": null,
      "outputs": []
    },
    {
      "cell_type": "code",
      "source": [],
      "metadata": {
        "id": "RjcUTTP4ufr9"
      },
      "execution_count": null,
      "outputs": []
    }
  ],
  "metadata": {
    "colab": {
      "provenance": [],
      "gpuType": "T4",
      "include_colab_link": true
    },
    "kernelspec": {
      "display_name": "Python 3",
      "name": "python3"
    },
    "language_info": {
      "codemirror_mode": {
        "name": "ipython",
        "version": 3
      },
      "file_extension": ".py",
      "mimetype": "text/x-python",
      "name": "python",
      "nbconvert_exporter": "python",
      "pygments_lexer": "ipython3",
      "version": "3.6.4"
    },
    "toc": {
      "base_numbering": 1,
      "nav_menu": {},
      "number_sections": true,
      "sideBar": true,
      "skip_h1_title": false,
      "title_cell": "Table of Contents",
      "title_sidebar": "Contents",
      "toc_cell": false,
      "toc_position": {},
      "toc_section_display": true,
      "toc_window_display": false
    }
  },
  "nbformat": 4,
  "nbformat_minor": 0
}
